{
 "cells": [
  {
   "cell_type": "markdown",
   "metadata": {},
   "source": [
    "# Predict Next Purchase\n",
    "\n",
    "---\n",
    "\n",
    "This tutorial will walk you through using a historical sales dataset to predict whether or not a customer will **spend more than $500 in the next month**. This is a supervised classification problem.\n",
    "\n",
    "Data is from the [UCI Machine Learning Repository](https://archive.ics.uci.edu/ml/datasets/). This is a transnational [data set](https://archive.ics.uci.edu/ml/datasets/online+retail) which contains all the transactions occurring between 01/12/2010 and 09/12/2011 for a UK-based and registered non-store online retail.The company mainly sells unique all-occasion gifts. Many customers of the company are wholesalers.\n",
    "\n",
    "<font color='red'>WARNING!</font> Commit `ffb8081ca98be59b8e053ebc4e34adeecc9f32ab` of `featuretools` seems to have broken some of the deep feature synthesis primitives. The code below will install a particular version of a Python package from GitHub. I'm not aware of a way to do this using the Anaconda Navigator GUI. Feel free to try out Anaconda Prompt (type into the Windows search bar near the start menu).\n",
    "\n",
    "```\n",
    "pip install git+https://github.com/Featuretools/featuretools@ffb8081ca98be59b8e053ebc4e34adeecc9f32ab\n",
    "```\n",
    "\n",
    "## Contents\n",
    "\n",
    "---\n",
    "\n",
    "- [Setup](#Setup)\n",
    "  - [Imports](#Imports)\n",
    "  - [Visual Setup](#Visual-Setup)\n",
    "  - [Functions](#Functions)\n",
    "  - [Load Data](#Load-Data)\n",
    "  - [Data Cleaning and Exploration](#Data-Cleaning-and-Exploration)\n",
    "  - [Empirical Cumulative Distribution Function](#Empirical-Cumulative-Distribution-Function)\n",
    "- [Prediction Problem](#Prediction-Problem)\n",
    "- [Making Labels](#Making-Labels)\n",
    "- [Feature Engineering](#Feature-Engineering)\n",
    "  - [Featuretools Implementation](#Featuretools-Implementation)\n",
    "    - [Create an Entity Set](#Create-an-Entity-Set)\n",
    "    - [Normalize Entities](#Normalize-Entities)\n",
    "    - [Deep Feature Synthesis](#Deep-Feature-Synthesis)\n",
    "- [Preliminary Modelling](#Preliminary-Modelling)\n",
    "- [Compare to Baseline](#Compare-to-Baseline)\n",
    "- [References](#References)"
   ]
  },
  {
   "cell_type": "markdown",
   "metadata": {},
   "source": [
    "## Setup\n",
    "\n",
    "---\n",
    "\n",
    "### Imports"
   ]
  },
  {
   "cell_type": "code",
   "execution_count": 1,
   "metadata": {},
   "outputs": [],
   "source": [
    "import featuretools as ft\n",
    "import numpy as np\n",
    "import matplotlib.pyplot as plt\n",
    "import pandas as pd\n",
    "import scipy as sp\n",
    "import seaborn as sns\n",
    "import sklearn\n",
    "from sklearn.ensemble import RandomForestClassifier\n",
    "from sklearn.metrics import f1_score\n",
    "from sklearn.metrics import precision_score\n",
    "from sklearn.metrics import precision_recall_curve\n",
    "from sklearn.metrics import recall_score\n",
    "from sklearn.metrics import roc_auc_score\n",
    "from sklearn.metrics import roc_curve\n",
    "from sklearn.model_selection import cross_val_score\n",
    "from sklearn.model_selection import train_test_split\n",
    "from sklearn.pipeline import Pipeline\n",
    "from sklearn.preprocessing import Imputer\n",
    "from sklearn.preprocessing import MinMaxScaler\n",
    "from statsmodels.distributions.empirical_distribution import ECDF"
   ]
  },
  {
   "cell_type": "markdown",
   "metadata": {},
   "source": [
    "### Visual Setup\n",
    "\n",
    "Below is what I call Jupyter Notebook magic. This code is specific to Jupyter Notebooks, and code like this is prefixed by the `%` symbol."
   ]
  },
  {
   "cell_type": "code",
   "execution_count": 2,
   "metadata": {},
   "outputs": [],
   "source": [
    "%matplotlib inline"
   ]
  },
  {
   "cell_type": "code",
   "execution_count": 3,
   "metadata": {},
   "outputs": [],
   "source": [
    "pd.set_option('display.max_columns', None)"
   ]
  },
  {
   "cell_type": "markdown",
   "metadata": {},
   "source": [
    "Sure looks pretty, doesn't it?"
   ]
  },
  {
   "cell_type": "code",
   "execution_count": 4,
   "metadata": {},
   "outputs": [
    {
     "data": {
      "image/png": "[encoded data removed]",
      "text/plain": [
       "<Figure size 720x72 with 1 Axes>"
      ]
     },
     "metadata": {},
     "output_type": "display_data"
    }
   ],
   "source": [
    "sns.set(palette=\"pastel\")\n",
    "current_palette = sns.color_palette()\n",
    "sns.palplot(current_palette)"
   ]
  },
  {
   "cell_type": "markdown",
   "metadata": {},
   "source": [
    "## Functions\n",
    "\n",
    "I'm defining a variety of functions that will be used later. For the reader, you can just skip past this section for now.\n",
    "\n",
    "This function uses some of the tools built into `sklearn.ensemble.RandomForestClassifier` to rank feature importances. For the documentation, please refer to [here](https://scikit-learn.org/stable/auto_examples/ensemble/plot_forest_importances.html), [here](https://scikit-learn.org/stable/modules/feature_selection.html) and [here](https://scikit-learn.org/stable/modules/generated/sklearn.ensemble.RandomForestClassifier.html), as well as this helpful [Stack Overflow thread](https://stackoverflow.com/questions/15810339/how-are-feature-importances-in-randomforestclassifier-determined)."
   ]
  },
  {
   "cell_type": "code",
   "execution_count": 5,
   "metadata": {},
   "outputs": [],
   "source": [
    "def plot_feature_importances(df, n=15, threshold=None):\n",
    "    \"\"\"Plots n most important features.\n",
    "    \n",
    "    Also plots the cumulative importance i threshold is specified and prints the number of\n",
    "    features needed to reach threshold cumulative importance. Intended for use with any\n",
    "    tree-based feature importances. \n",
    "    \n",
    "    Args:\n",
    "        df (dataframe): Dataframe of feature importances. Columns must be \"feature\"\n",
    "                        and \"Importance\".\n",
    "    \n",
    "        n (int): Number of most important features to plot. Default is 15.\n",
    "    \n",
    "        threshold (float): Threshold for cumulative importance plot. If not provided,\n",
    "                           no plot is made. Default is None.\n",
    "        \n",
    "    Returns:\n",
    "        df (dataframe): Dataframe ordered by feature importances with a normalized\n",
    "                        column (sums to 1) and a cumulative importance column\n",
    "    \n",
    "    Note:\n",
    "    \n",
    "        * Normalization in this case means sums to 1. \n",
    "        * Cumulative importance is calculated by summing features from most to least\n",
    "          important.\n",
    "        * A threshold of 0.9 will show the most important features needed to reach 90% of\n",
    "          cumulative importance.    \n",
    "    \"\"\"\n",
    "    # Sort features with most important at the head.\n",
    "    df = df.sort_values('importance', ascending = False).reset_index(drop = True)\n",
    "    \n",
    "    # Normalize the feature importances to add up to one and calculate cumulative importance.\n",
    "    df['importance_normalized'] = df['importance'] / df['importance'].sum()\n",
    "    df['cumulative_importance'] = np.cumsum(df['importance_normalized'])\n",
    "    \n",
    "    plt.rcParams['font.size'] = 12\n",
    "    \n",
    "    # Bar plot of n most important features.\n",
    "    df.loc[:n, :].plot.barh(\n",
    "        y = 'importance_normalized', \n",
    "        x = 'feature',\n",
    "        color = 'blue', \n",
    "        edgecolor = 'k',\n",
    "        figsize = (12, 8),\n",
    "        legend = False\n",
    "    )\n",
    "\n",
    "    plt.xlabel('Normalized Importance', size = 18); plt.ylabel(''); \n",
    "    plt.title(f'Top {n} Most Important Features', size = 18)\n",
    "    plt.gca().invert_yaxis()\n",
    "    \n",
    "    \n",
    "    if threshold:\n",
    "        # Cumulative importance plot.\n",
    "        plt.figure(figsize = (8, 6))\n",
    "        plt.plot(list(range(len(df))), df['cumulative_importance'], 'b-')\n",
    "        plt.xlabel('Number of Features', size = 16); plt.ylabel('Cumulative Importance', size = 16); \n",
    "        plt.title('Cumulative Feature Importance', size = 18);\n",
    "        \n",
    "        # Number of features needed for threshold cumulative importance.\n",
    "        # This is the index (will need to add 1 for the actual number).\n",
    "        importance_index = np.min(np.where(df['cumulative_importance'] > threshold))\n",
    "        \n",
    "        # Add vertical line to plot.\n",
    "        plt.vlines(importance_index + 1, ymin = 0, ymax = 1.05, linestyles = '--', colors = 'red')\n",
    "        plt.show();\n",
    "        \n",
    "        print('{} features required for {:.0f}% of cumulative importance.'.format(\n",
    "            importance_index + 1,\n",
    "            100 * threshold\n",
    "        ))\n",
    "    \n",
    "    return df"
   ]
  },
  {
   "cell_type": "markdown",
   "metadata": {},
   "source": [
    "I wrote out how to do this manually later in the notebook for the 1st model developed. This code makes iterating and testing other models much more concise."
   ]
  },
  {
   "cell_type": "code",
   "execution_count": 6,
   "metadata": {},
   "outputs": [],
   "source": [
    "def get_trained_model(\n",
    "    model,\n",
    "    time_period_to_predict,\n",
    "    feature_matrix,\n",
    "    verbose=True\n",
    "):\n",
    "    # For now, this is just taking the int of the month. We could make this smarter.\n",
    "    month = time_period_to_predict\n",
    "\n",
    "    test_labels = feature_matrix.loc[feature_matrix['Month'] == month, 'Label']\n",
    "    train_labels = feature_matrix.loc[feature_matrix['Month'] < month, 'Label']\n",
    "    \n",
    "    # Remember that the training and test set are dependent upon the timeframe.\n",
    "    x_train = feature_matrix[feature_matrix['time'].dt.month < month].drop(columns = [\n",
    "        \"CustomerID\",\n",
    "        \"time\",\n",
    "        \"Month\",\n",
    "        \"Label\",\n",
    "        \"Total\"\n",
    "    ])\n",
    "    x_test = feature_matrix[feature_matrix['time'].dt.month == month].drop(columns = [\n",
    "        \"CustomerID\",\n",
    "        \"time\",\n",
    "        \"Month\",\n",
    "        \"Label\",\n",
    "        \"Total\"\n",
    "    ])\n",
    "    \n",
    "    # Impute and scale features.\n",
    "    pipeline = Pipeline([\n",
    "        ('imputer', Imputer(strategy='median')),\n",
    "        ('scaler', MinMaxScaler())\n",
    "    ])\n",
    "    \n",
    "    # Fit and transform training and test data.\n",
    "    transformed_x_train = pipeline.fit_transform(x_train)\n",
    "    transformed_x_test = pipeline.fit_transform(x_test)\n",
    "    \n",
    "    # Get labels.\n",
    "    y_train = np.array(train_labels).reshape((-1, ))\n",
    "    y_test = np.array(test_labels).reshape((-1, ))\n",
    "    \n",
    "    if verbose:\n",
    "        print(\"Number of training observations: {}\".format(len(transformed_x_train)))\n",
    "        print(\"Number of training labels: {}\".format(len(y_train)))\n",
    "    model.fit(transformed_x_train, y_train)\n",
    "    return model, transformed_x_train, transformed_x_test, y_train, y_test"
   ]
  },
  {
   "cell_type": "code",
   "execution_count": 7,
   "metadata": {},
   "outputs": [],
   "source": [
    "def get_informed_baseline(\n",
    "    time_period_to_predict,\n",
    "    labels\n",
    "):\n",
    "    baseline_labels = labels.copy()\n",
    "    baseline_labels['Month'] = baseline_labels['CutoffTime'].dt.month\n",
    "\n",
    "    previous_month_baseline_labels = baseline_labels[baseline_labels['Month'] == (time_period_to_predict - 1)]\n",
    "    prediction_month_baseline_labels = baseline_labels[baseline_labels['Month'] == 6]\n",
    "\n",
    "    previous_month_baseline_labels = previous_month_baseline_labels.rename(columns = {'Total': 'PreviousMonthTotal'})\n",
    "    prediction_month_baseline_labels = prediction_month_baseline_labels.rename(columns = {'Total': 'PredictionMonthTotal'})\n",
    "\n",
    "    prediction_month_baseline_labels = prediction_month_baseline_labels.merge(previous_month_baseline_labels[['CustomerID', 'PreviousMonthTotal']], on='CustomerID', how='left')\n",
    "    prediction_month_baseline_labels['PreviousMonthTotal'] = prediction_month_baseline_labels['PreviousMonthTotal'].fillna(0)\n",
    "    prediction_month_baseline_labels['PredictedLabel'] = (prediction_month_baseline_labels['PreviousMonthTotal'] > 500).astype(int)\n",
    "\n",
    "    prediction_month_baseline_labels['Probability'] = prediction_month_baseline_labels['PreviousMonthTotal'] / 500\n",
    "\n",
    "    # Set probabilities greater than 1 equal to 1.\n",
    "    prediction_month_baseline_labels.loc[prediction_month_baseline_labels['Probability'] > 1, 'Probability'] = 1\n",
    "\n",
    "    prediction_month_baseline_labels.sample(25, random_state=50)\n",
    "    return prediction_month_baseline_labels"
   ]
  },
  {
   "cell_type": "code",
   "execution_count": 8,
   "metadata": {},
   "outputs": [],
   "source": [
    "def get_performance_metrics(truth, predictions, verbose=True):\n",
    "    metrics_precision = precision_score(truth, predictions)\n",
    "    metrics_recall = recall_score(truth, predictions)\n",
    "    metrics_f1 = f1_score(truth, predictions)\n",
    "    metrics_roc_auc = roc_auc_score(truth, predictions)\n",
    "\n",
    "    if verbose:\n",
    "        print(\"Precision: {}\".format(metrics_precision))\n",
    "        print(\"Recall: {}\".format(metrics_recall))\n",
    "        print(\"F1 score: {}\".format(metrics_f1))\n",
    "        print(\"ROC AUC: {}\".format(metrics_roc_auc))\n",
    "    \n",
    "    return metrics_precision, metrics_recall, metrics_f1, metrics_roc_auc"
   ]
  },
  {
   "cell_type": "code",
   "execution_count": 9,
   "metadata": {},
   "outputs": [],
   "source": [
    "def compare_baseline_to_auto(\n",
    "    time_period_to_predict,\n",
    "    feature_matrix,\n",
    "    labels\n",
    "):\n",
    "    baseline_df = get_informed_baseline(time_period_to_predict, labels)\n",
    "    print(\"Baseline:\")\n",
    "    _ = get_performance_metrics(baseline_df['Label'], baseline_df['PredictedLabel'])\n",
    "    \n",
    "    random_forest_model = RandomForestClassifier(\n",
    "        n_estimators=1000,\n",
    "        random_state=50,\n",
    "        n_jobs=-1\n",
    "    )   \n",
    "    random_forest_model, transformed_x_train, transformed_x_test, y_train, y_test = get_trained_model(\n",
    "        model=random_forest_model, \n",
    "        time_period_to_predict=time_period_to_predict,\n",
    "        feature_matrix=feature_matrix,\n",
    "        verbose=False\n",
    "    )\n",
    "    random_forest_model_predictions = random_forest_model.predict(transformed_x_test)\n",
    "    random_forest_model_probabilities = random_forest_model.predict_proba(transformed_x_test)[:, 1]\n",
    "    print(\"\\nPipeline:\")\n",
    "    _ = get_performance_metrics(truth=y_test, predictions=random_forest_model_predictions)\n",
    "    \n",
    "    base_fpr, base_tpr, _ = roc_curve(baseline_df['Label'], baseline_df['Probability'])\n",
    "    model_fpr, model_tpr, _ = roc_curve(feature_matrix[feature_matrix['Month'] == time_period_to_predict]['Label'], random_forest_model_probabilities)\n",
    "\n",
    "    plt.figure(figsize = (8, 6))\n",
    "    plt.plot(base_fpr, base_tpr, 'b', label = 'baseline')\n",
    "    plt.plot(model_fpr, model_tpr, 'r', label = 'model')\n",
    "    plt.legend();\n",
    "    plt.xlabel('False Positive Rate'); plt.ylabel('True Positive Rate'); plt.title('ROC Curves')"
   ]
  },
  {
   "cell_type": "markdown",
   "metadata": {},
   "source": [
    "### Load Data\n",
    "\n",
    "`pd` stands for the [Pandas](https://pandas.pydata.org/) library. Pandas it the de facto way to deal with tables in Python. Remember how we did `import pandas as pd` above? That's just to save space. Now we can type `pd` instead of `pandas`. Wow, Python is convenient! Nice!\n",
    "\n",
    "Note that Pandas gets thrown out the window when we talk about really, really big. That being said, the packages that deal with big data, such as PySpark, do their best to replicate the Pandas syntax. What works with a Pandas dataframe (that's our lingo for table) often works with a PySpark dataframe."
   ]
  },
  {
   "cell_type": "code",
   "execution_count": 10,
   "metadata": {},
   "outputs": [],
   "source": [
    "df = pd.read_excel(\"data/Online Retail.xlsx\", parse_dates=[\"InvoiceDate\"])"
   ]
  },
  {
   "cell_type": "code",
   "execution_count": 11,
   "metadata": {},
   "outputs": [
    {
     "data": {
      "text/html": [
       "<div>\n",
       "<style scoped>\n",
       "    .dataframe tbody tr th:only-of-type {\n",
       "        vertical-align: middle;\n",
       "    }\n",
       "\n",
       "    .dataframe tbody tr th {\n",
       "        vertical-align: top;\n",
       "    }\n",
       "\n",
       "    .dataframe thead th {\n",
       "        text-align: right;\n",
       "    }\n",
       "</style>\n",
       "<table border=\"1\" class=\"dataframe\">\n",
       "  <thead>\n",
       "    <tr style=\"text-align: right;\">\n",
       "      <th></th>\n",
       "      <th>InvoiceNo</th>\n",
       "      <th>StockCode</th>\n",
       "      <th>Description</th>\n",
       "      <th>Quantity</th>\n",
       "      <th>InvoiceDate</th>\n",
       "      <th>UnitPrice</th>\n",
       "      <th>CustomerID</th>\n",
       "      <th>Country</th>\n",
       "    </tr>\n",
       "  </thead>\n",
       "  <tbody>\n",
       "    <tr>\n",
       "      <th>0</th>\n",
       "      <td>536365</td>\n",
       "      <td>85123A</td>\n",
       "      <td>WHITE HANGING HEART T-LIGHT HOLDER</td>\n",
       "      <td>6</td>\n",
       "      <td>2010-12-01 08:26:00</td>\n",
       "      <td>2.55</td>\n",
       "      <td>17850.0</td>\n",
       "      <td>United Kingdom</td>\n",
       "    </tr>\n",
       "    <tr>\n",
       "      <th>1</th>\n",
       "      <td>536365</td>\n",
       "      <td>71053</td>\n",
       "      <td>WHITE METAL LANTERN</td>\n",
       "      <td>6</td>\n",
       "      <td>2010-12-01 08:26:00</td>\n",
       "      <td>3.39</td>\n",
       "      <td>17850.0</td>\n",
       "      <td>United Kingdom</td>\n",
       "    </tr>\n",
       "    <tr>\n",
       "      <th>2</th>\n",
       "      <td>536365</td>\n",
       "      <td>84406B</td>\n",
       "      <td>CREAM CUPID HEARTS COAT HANGER</td>\n",
       "      <td>8</td>\n",
       "      <td>2010-12-01 08:26:00</td>\n",
       "      <td>2.75</td>\n",
       "      <td>17850.0</td>\n",
       "      <td>United Kingdom</td>\n",
       "    </tr>\n",
       "    <tr>\n",
       "      <th>3</th>\n",
       "      <td>536365</td>\n",
       "      <td>84029G</td>\n",
       "      <td>KNITTED UNION FLAG HOT WATER BOTTLE</td>\n",
       "      <td>6</td>\n",
       "      <td>2010-12-01 08:26:00</td>\n",
       "      <td>3.39</td>\n",
       "      <td>17850.0</td>\n",
       "      <td>United Kingdom</td>\n",
       "    </tr>\n",
       "    <tr>\n",
       "      <th>4</th>\n",
       "      <td>536365</td>\n",
       "      <td>84029E</td>\n",
       "      <td>RED WOOLLY HOTTIE WHITE HEART.</td>\n",
       "      <td>6</td>\n",
       "      <td>2010-12-01 08:26:00</td>\n",
       "      <td>3.39</td>\n",
       "      <td>17850.0</td>\n",
       "      <td>United Kingdom</td>\n",
       "    </tr>\n",
       "  </tbody>\n",
       "</table>\n",
       "</div>"
      ],
      "text/plain": [
       "  InvoiceNo StockCode                          Description  Quantity  \\\n",
       "0    536365    85123A   WHITE HANGING HEART T-LIGHT HOLDER         6   \n",
       "1    536365     71053                  WHITE METAL LANTERN         6   \n",
       "2    536365    84406B       CREAM CUPID HEARTS COAT HANGER         8   \n",
       "3    536365    84029G  KNITTED UNION FLAG HOT WATER BOTTLE         6   \n",
       "4    536365    84029E       RED WOOLLY HOTTIE WHITE HEART.         6   \n",
       "\n",
       "          InvoiceDate  UnitPrice  CustomerID         Country  \n",
       "0 2010-12-01 08:26:00       2.55     17850.0  United Kingdom  \n",
       "1 2010-12-01 08:26:00       3.39     17850.0  United Kingdom  \n",
       "2 2010-12-01 08:26:00       2.75     17850.0  United Kingdom  \n",
       "3 2010-12-01 08:26:00       3.39     17850.0  United Kingdom  \n",
       "4 2010-12-01 08:26:00       3.39     17850.0  United Kingdom  "
      ]
     },
     "execution_count": 11,
     "metadata": {},
     "output_type": "execute_result"
    }
   ],
   "source": [
    "df.head()"
   ]
  },
  {
   "cell_type": "markdown",
   "metadata": {},
   "source": [
    "### Data Cleaning and Exploring\n",
    "\n",
    "So how much data do we really have?"
   ]
  },
  {
   "cell_type": "code",
   "execution_count": 12,
   "metadata": {},
   "outputs": [
    {
     "data": {
      "text/plain": [
       "InvoiceNo      541909\n",
       "StockCode      541909\n",
       "Description    540455\n",
       "Quantity       541909\n",
       "InvoiceDate    541909\n",
       "UnitPrice      541909\n",
       "CustomerID     406829\n",
       "Country        541909\n",
       "dtype: int64"
      ]
     },
     "execution_count": 12,
     "metadata": {},
     "output_type": "execute_result"
    }
   ],
   "source": [
    "df.count()"
   ]
  },
  {
   "cell_type": "markdown",
   "metadata": {},
   "source": [
    "Looks like some customer ID's are missing. That's no good. Get rid of those rows.\n",
    "\n",
    "Here, `axis` refers to the axis of the table. There's two dimensions here, so `axis=0` means drop rows. `axis=1` would drop columns."
   ]
  },
  {
   "cell_type": "code",
   "execution_count": 13,
   "metadata": {},
   "outputs": [
    {
     "data": {
      "text/plain": [
       "InvoiceNo      406829\n",
       "StockCode      406829\n",
       "Description    406829\n",
       "Quantity       406829\n",
       "InvoiceDate    406829\n",
       "UnitPrice      406829\n",
       "CustomerID     406829\n",
       "Country        406829\n",
       "dtype: int64"
      ]
     },
     "execution_count": 13,
     "metadata": {},
     "output_type": "execute_result"
    }
   ],
   "source": [
    "df = df.dropna(axis=0)\n",
    "df.count()"
   ]
  },
  {
   "cell_type": "markdown",
   "metadata": {},
   "source": [
    "Let's also check for duplicates. Yep, we had some. Got to love dirty data."
   ]
  },
  {
   "cell_type": "code",
   "execution_count": 14,
   "metadata": {},
   "outputs": [
    {
     "data": {
      "text/plain": [
       "InvoiceNo      401604\n",
       "StockCode      401604\n",
       "Description    401604\n",
       "Quantity       401604\n",
       "InvoiceDate    401604\n",
       "UnitPrice      401604\n",
       "CustomerID     401604\n",
       "Country        401604\n",
       "dtype: int64"
      ]
     },
     "execution_count": 14,
     "metadata": {},
     "output_type": "execute_result"
    }
   ],
   "source": [
    "df.drop_duplicates(inplace=True)\n",
    "df.count()"
   ]
  },
  {
   "cell_type": "markdown",
   "metadata": {},
   "source": [
    "We may want to restrict our scope for prototyping. Let's stick to 2011 only."
   ]
  },
  {
   "cell_type": "code",
   "execution_count": 15,
   "metadata": {},
   "outputs": [
    {
     "data": {
      "text/plain": [
       "InvoiceNo      375250\n",
       "StockCode      375250\n",
       "Description    375250\n",
       "Quantity       375250\n",
       "InvoiceDate    375250\n",
       "UnitPrice      375250\n",
       "CustomerID     375250\n",
       "Country        375250\n",
       "dtype: int64"
      ]
     },
     "execution_count": 15,
     "metadata": {},
     "output_type": "execute_result"
    }
   ],
   "source": [
    "df = df[df[\"InvoiceDate\"].dt.year == 2011]\n",
    "df.count()"
   ]
  },
  {
   "cell_type": "markdown",
   "metadata": {},
   "source": [
    "The price is in sterlings. Let's convert that to dollars. We're just going estimate here that 1 pound sterling can be exchanged for 1.31 US dollars. A more accurate approach would be to use the conversion rate on the day of the invoice.\n",
    "\n",
    "Since we're using the same column for the output as the input, we're rewritting the values in that column."
   ]
  },
  {
   "cell_type": "code",
   "execution_count": 16,
   "metadata": {},
   "outputs": [],
   "source": [
    "df['UnitPrice'] = df['UnitPrice'] * 1.31"
   ]
  },
  {
   "cell_type": "markdown",
   "metadata": {},
   "source": [
    "Let's add a column that contains the total.\n",
    "\n",
    "Here, you can see that we're adding a new column because `df['Total']` doesn't exist yet."
   ]
  },
  {
   "cell_type": "code",
   "execution_count": 17,
   "metadata": {},
   "outputs": [],
   "source": [
    "df['Total'] = df['UnitPrice'] * df['Quantity']"
   ]
  },
  {
   "cell_type": "markdown",
   "metadata": {},
   "source": [
    "Did I mention that you should always read the documentation? That includes reading about your data! From the [provided descriptions](https://archive.ics.uci.edu/ml/datasets/online+retail),\n",
    "\n",
    "> InvoiceNo: Invoice number. Nominal, a 6-digit integral number uniquely assigned to each transaction. If this code starts with letter 'c', it indicates a cancellation. \n",
    "\n",
    "That's a useful piece of information! Good thing we did our due research."
   ]
  },
  {
   "cell_type": "code",
   "execution_count": 18,
   "metadata": {},
   "outputs": [
    {
     "data": {
      "text/plain": [
       "Text(0.5, 1.0, 'Cancelled Purchases Breakdown')"
      ]
     },
     "execution_count": 18,
     "metadata": {},
     "output_type": "execute_result"
    },
    {
     "data": {
      "image/png": "[encoded data removed]",
      "text/plain": [
       "<Figure size 432x288 with 1 Axes>"
      ]
     },
     "metadata": {},
     "output_type": "display_data"
    }
   ],
   "source": [
    "df['Cancelled'] = df[\"InvoiceNo\"].str.startswith(\"C\", na=False)\n",
    "df['Cancelled'].value_counts().plot.bar()\n",
    "plt.title(\"Cancelled Purchases Breakdown\")"
   ]
  },
  {
   "cell_type": "markdown",
   "metadata": {},
   "source": [
    "Let's take a look at a few of these. All the cancelled orders have negative quantities. Now that wasn't explained in the descriptions! Let's leave in the cancelled orders because if our goal is to predict the total amount purchased by a customer, we'll need to take into account their cancelled orders."
   ]
  },
  {
   "cell_type": "code",
   "execution_count": 19,
   "metadata": {},
   "outputs": [
    {
     "data": {
      "text/html": [
       "<div>\n",
       "<style scoped>\n",
       "    .dataframe tbody tr th:only-of-type {\n",
       "        vertical-align: middle;\n",
       "    }\n",
       "\n",
       "    .dataframe tbody tr th {\n",
       "        vertical-align: top;\n",
       "    }\n",
       "\n",
       "    .dataframe thead th {\n",
       "        text-align: right;\n",
       "    }\n",
       "</style>\n",
       "<table border=\"1\" class=\"dataframe\">\n",
       "  <thead>\n",
       "    <tr style=\"text-align: right;\">\n",
       "      <th></th>\n",
       "      <th>InvoiceNo</th>\n",
       "      <th>StockCode</th>\n",
       "      <th>Description</th>\n",
       "      <th>Quantity</th>\n",
       "      <th>InvoiceDate</th>\n",
       "      <th>UnitPrice</th>\n",
       "      <th>CustomerID</th>\n",
       "      <th>Country</th>\n",
       "      <th>Total</th>\n",
       "      <th>Cancelled</th>\n",
       "    </tr>\n",
       "  </thead>\n",
       "  <tbody>\n",
       "    <tr>\n",
       "      <th>42557</th>\n",
       "      <td>C540006</td>\n",
       "      <td>21306</td>\n",
       "      <td>SET/4 DAISY MIRROR MAGNETS</td>\n",
       "      <td>-1</td>\n",
       "      <td>2011-01-04 10:48:00</td>\n",
       "      <td>2.7510</td>\n",
       "      <td>14606.0</td>\n",
       "      <td>United Kingdom</td>\n",
       "      <td>-2.7510</td>\n",
       "      <td>True</td>\n",
       "    </tr>\n",
       "    <tr>\n",
       "      <th>42558</th>\n",
       "      <td>C540006</td>\n",
       "      <td>84352</td>\n",
       "      <td>SILVER CHRISTMAS TREE BAUBLE STAND</td>\n",
       "      <td>-1</td>\n",
       "      <td>2011-01-04 10:48:00</td>\n",
       "      <td>22.2045</td>\n",
       "      <td>14606.0</td>\n",
       "      <td>United Kingdom</td>\n",
       "      <td>-22.2045</td>\n",
       "      <td>True</td>\n",
       "    </tr>\n",
       "    <tr>\n",
       "      <th>42559</th>\n",
       "      <td>C540006</td>\n",
       "      <td>22423</td>\n",
       "      <td>REGENCY CAKESTAND 3 TIER</td>\n",
       "      <td>-1</td>\n",
       "      <td>2011-01-04 10:48:00</td>\n",
       "      <td>16.7025</td>\n",
       "      <td>14606.0</td>\n",
       "      <td>United Kingdom</td>\n",
       "      <td>-16.7025</td>\n",
       "      <td>True</td>\n",
       "    </tr>\n",
       "    <tr>\n",
       "      <th>42560</th>\n",
       "      <td>C540007</td>\n",
       "      <td>21055</td>\n",
       "      <td>TOOL BOX SOFT TOY</td>\n",
       "      <td>-6</td>\n",
       "      <td>2011-01-04 11:08:00</td>\n",
       "      <td>11.7245</td>\n",
       "      <td>15379.0</td>\n",
       "      <td>United Kingdom</td>\n",
       "      <td>-70.3470</td>\n",
       "      <td>True</td>\n",
       "    </tr>\n",
       "    <tr>\n",
       "      <th>42561</th>\n",
       "      <td>C540007</td>\n",
       "      <td>22274</td>\n",
       "      <td>FELTCRAFT DOLL EMILY</td>\n",
       "      <td>-6</td>\n",
       "      <td>2011-01-04 11:08:00</td>\n",
       "      <td>3.8645</td>\n",
       "      <td>15379.0</td>\n",
       "      <td>United Kingdom</td>\n",
       "      <td>-23.1870</td>\n",
       "      <td>True</td>\n",
       "    </tr>\n",
       "  </tbody>\n",
       "</table>\n",
       "</div>"
      ],
      "text/plain": [
       "      InvoiceNo StockCode                          Description  Quantity  \\\n",
       "42557   C540006     21306           SET/4 DAISY MIRROR MAGNETS        -1   \n",
       "42558   C540006     84352  SILVER CHRISTMAS TREE BAUBLE STAND         -1   \n",
       "42559   C540006     22423             REGENCY CAKESTAND 3 TIER        -1   \n",
       "42560   C540007     21055                   TOOL BOX SOFT TOY         -6   \n",
       "42561   C540007     22274                 FELTCRAFT DOLL EMILY        -6   \n",
       "\n",
       "              InvoiceDate  UnitPrice  CustomerID         Country    Total  \\\n",
       "42557 2011-01-04 10:48:00     2.7510     14606.0  United Kingdom  -2.7510   \n",
       "42558 2011-01-04 10:48:00    22.2045     14606.0  United Kingdom -22.2045   \n",
       "42559 2011-01-04 10:48:00    16.7025     14606.0  United Kingdom -16.7025   \n",
       "42560 2011-01-04 11:08:00    11.7245     15379.0  United Kingdom -70.3470   \n",
       "42561 2011-01-04 11:08:00     3.8645     15379.0  United Kingdom -23.1870   \n",
       "\n",
       "       Cancelled  \n",
       "42557       True  \n",
       "42558       True  \n",
       "42559       True  \n",
       "42560       True  \n",
       "42561       True  "
      ]
     },
     "execution_count": 19,
     "metadata": {},
     "output_type": "execute_result"
    }
   ],
   "source": [
    "df.loc[df['Cancelled'] == True].head()"
   ]
  },
  {
   "cell_type": "markdown",
   "metadata": {},
   "source": [
    "The `describe` function is quite useful. It acts upon all of our numeric columns (notice that data types were automatically inferred when we read in the Excel). Most totals are around $27."
   ]
  },
  {
   "cell_type": "code",
   "execution_count": 20,
   "metadata": {},
   "outputs": [
    {
     "data": {
      "text/html": [
       "<div>\n",
       "<style scoped>\n",
       "    .dataframe tbody tr th:only-of-type {\n",
       "        vertical-align: middle;\n",
       "    }\n",
       "\n",
       "    .dataframe tbody tr th {\n",
       "        vertical-align: top;\n",
       "    }\n",
       "\n",
       "    .dataframe thead th {\n",
       "        text-align: right;\n",
       "    }\n",
       "</style>\n",
       "<table border=\"1\" class=\"dataframe\">\n",
       "  <thead>\n",
       "    <tr style=\"text-align: right;\">\n",
       "      <th></th>\n",
       "      <th>Quantity</th>\n",
       "      <th>UnitPrice</th>\n",
       "      <th>CustomerID</th>\n",
       "      <th>Total</th>\n",
       "    </tr>\n",
       "  </thead>\n",
       "  <tbody>\n",
       "    <tr>\n",
       "      <th>count</th>\n",
       "      <td>375250.000000</td>\n",
       "      <td>375250.000000</td>\n",
       "      <td>375250.000000</td>\n",
       "      <td>375250.000000</td>\n",
       "    </tr>\n",
       "    <tr>\n",
       "      <th>mean</th>\n",
       "      <td>12.252296</td>\n",
       "      <td>4.574703</td>\n",
       "      <td>15265.136168</td>\n",
       "      <td>26.972024</td>\n",
       "    </tr>\n",
       "    <tr>\n",
       "      <th>std</th>\n",
       "      <td>258.180877</td>\n",
       "      <td>94.521742</td>\n",
       "      <td>1710.927381</td>\n",
       "      <td>582.595709</td>\n",
       "    </tr>\n",
       "    <tr>\n",
       "      <th>min</th>\n",
       "      <td>-80995.000000</td>\n",
       "      <td>0.000000</td>\n",
       "      <td>12346.000000</td>\n",
       "      <td>-220695.176000</td>\n",
       "    </tr>\n",
       "    <tr>\n",
       "      <th>25%</th>\n",
       "      <td>2.000000</td>\n",
       "      <td>1.637500</td>\n",
       "      <td>13901.000000</td>\n",
       "      <td>5.567500</td>\n",
       "    </tr>\n",
       "    <tr>\n",
       "      <th>50%</th>\n",
       "      <td>5.000000</td>\n",
       "      <td>2.554500</td>\n",
       "      <td>15108.000000</td>\n",
       "      <td>15.327000</td>\n",
       "    </tr>\n",
       "    <tr>\n",
       "      <th>75%</th>\n",
       "      <td>12.000000</td>\n",
       "      <td>4.912500</td>\n",
       "      <td>16767.000000</td>\n",
       "      <td>25.938000</td>\n",
       "    </tr>\n",
       "    <tr>\n",
       "      <th>max</th>\n",
       "      <td>80995.000000</td>\n",
       "      <td>51050.700000</td>\n",
       "      <td>18287.000000</td>\n",
       "      <td>220695.176000</td>\n",
       "    </tr>\n",
       "  </tbody>\n",
       "</table>\n",
       "</div>"
      ],
      "text/plain": [
       "            Quantity      UnitPrice     CustomerID          Total\n",
       "count  375250.000000  375250.000000  375250.000000  375250.000000\n",
       "mean       12.252296       4.574703   15265.136168      26.972024\n",
       "std       258.180877      94.521742    1710.927381     582.595709\n",
       "min    -80995.000000       0.000000   12346.000000 -220695.176000\n",
       "25%         2.000000       1.637500   13901.000000       5.567500\n",
       "50%         5.000000       2.554500   15108.000000      15.327000\n",
       "75%        12.000000       4.912500   16767.000000      25.938000\n",
       "max     80995.000000   51050.700000   18287.000000  220695.176000"
      ]
     },
     "execution_count": 20,
     "metadata": {},
     "output_type": "execute_result"
    }
   ],
   "source": [
    "df.describe()"
   ]
  },
  {
   "cell_type": "markdown",
   "metadata": {},
   "source": [
    "Let's slice by countries. We can see that the purchase total and quantities are heavily skewed. This might make predicting the actual spending amount difficult for a regression approach. One alternative would be to frame the problem as a classification."
   ]
  },
  {
   "cell_type": "code",
   "execution_count": 21,
   "metadata": {},
   "outputs": [
    {
     "data": {
      "text/plain": [
       "(array([ 0,  1,  2,  3,  4,  5,  6,  7,  8,  9, 10, 11, 12, 13, 14, 15, 16,\n",
       "        17, 18, 19, 20, 21, 22, 23, 24, 25, 26, 27, 28, 29, 30, 31, 32, 33,\n",
       "        34, 35]), <a list of 36 Text xticklabel objects>)"
      ]
     },
     "execution_count": 21,
     "metadata": {},
     "output_type": "execute_result"
    },
    {
     "data": {
      "image/png": "[encoded data removed]",
      "text/plain": [
       "<Figure size 1440x432 with 1 Axes>"
      ]
     },
     "metadata": {},
     "output_type": "display_data"
    }
   ],
   "source": [
    "plt.figure(figsize=(20, 6))\n",
    "sns.boxplot(x='Country', y='Total', data=df[(df['Total'] > 0) & (df['Total'] < 1000)])\n",
    "plt.title(\"Total Purchase Amount by Country\")\n",
    "plt.xticks(rotation=90)"
   ]
  },
  {
   "cell_type": "code",
   "execution_count": 22,
   "metadata": {},
   "outputs": [
    {
     "data": {
      "text/plain": [
       "(array([ 0,  1,  2,  3,  4,  5,  6,  7,  8,  9, 10, 11, 12, 13, 14, 15, 16,\n",
       "        17, 18, 19, 20, 21, 22, 23, 24, 25, 26, 27, 28, 29, 30, 31, 32, 33,\n",
       "        34, 35]), <a list of 36 Text xticklabel objects>)"
      ]
     },
     "execution_count": 22,
     "metadata": {},
     "output_type": "execute_result"
    },
    {
     "data": {
      "image/png": "[encoded data removed]",
      "text/plain": [
       "<Figure size 1440x432 with 1 Axes>"
      ]
     },
     "metadata": {},
     "output_type": "display_data"
    }
   ],
   "source": [
    "plt.figure(figsize=(20, 6))\n",
    "sns.boxplot(x='Country', y='Quantity', data=df[(df['Total'] > 0) & (df['Total'] < 1000)])\n",
    "plt.title(\"Quantity Purchased by Country\")\n",
    "plt.xticks(rotation=90)"
   ]
  },
  {
   "cell_type": "markdown",
   "metadata": {},
   "source": [
    "### Empirical Cumulative Distribution Function\n",
    "\n",
    "An empirical cumulative distribution function (ECDF) plot can help us visualize the extent of how skewed our data is. The ECDF is defined as\n",
    "\n",
    "<center>$$\\hat{F}_{n}(t) = \\frac{\\text{number of elements in the sample } \\leq \\text{ }t}{n} = \\frac{1}{n}\\sum_{i=1}^{n} 1_{x_{1} \\leq t}$$</center>\n",
    "\n",
    "where $1_{A}$ is the indicator of event $A$.\n",
    "\n",
    "Here's an example of an ECDF overlaid with a random sampling from a normal distribution with $\\mu = 0$ and $\\sigma = 1$."
   ]
  },
  {
   "cell_type": "code",
   "execution_count": 23,
   "metadata": {},
   "outputs": [
    {
     "data": {
      "text/plain": [
       "<matplotlib.legend.Legend at 0x244c63451d0>"
      ]
     },
     "execution_count": 23,
     "metadata": {},
     "output_type": "execute_result"
    },
    {
     "data": {
      "image/png": "[encoded data removed]",
      "text/plain": [
       "<Figure size 1296x432 with 1 Axes>"
      ]
     },
     "metadata": {},
     "output_type": "display_data"
    }
   ],
   "source": [
    "samples_from_normal_dist = np.random.normal(size=10000)\n",
    "ecdf_of_normal = ECDF(samples_from_normal_dist)\n",
    "\n",
    "plt.figure(figsize=(18, 6))\n",
    "plt.subplot(121)\n",
    "sns.distplot(samples_from_normal_dist, label=\"Sampling from Normal Distribution\")\n",
    "sns.lineplot(ecdf_of_normal.x, ecdf_of_normal.y, label=\"ECDF\")\n",
    "plt.title(\"Normal Distribution and ECDF\")\n",
    "plt.ylabel(\"Percentile\")\n",
    "plt.legend()"
   ]
  },
  {
   "cell_type": "markdown",
   "metadata": {},
   "source": [
    "Now let's apply the ECDF to our order data."
   ]
  },
  {
   "cell_type": "code",
   "execution_count": 24,
   "metadata": {},
   "outputs": [
    {
     "data": {
      "text/plain": [
       "Text(0, 0.5, 'Percentile')"
      ]
     },
     "execution_count": 24,
     "metadata": {},
     "output_type": "execute_result"
    },
    {
     "data": {
      "image/png": "[encoded data removed]",
      "text/plain": [
       "<Figure size 1296x432 with 2 Axes>"
      ]
     },
     "metadata": {},
     "output_type": "display_data"
    }
   ],
   "source": [
    "ecdf_of_total = ECDF(df.loc[df['Total'] > 0, 'Total'])\n",
    "ecdf_of_quantity = ECDF(df.loc[df['Total'] > 0, 'Quantity'])\n",
    "\n",
    "plt.figure(figsize=(18, 6))\n",
    "plt.subplot(121)\n",
    "plt.plot(ecdf_of_total.x, ecdf_of_total.y, marker='o')\n",
    "plt.title(\"ECDF of Purchase Total\")\n",
    "plt.xlabel(\"Total (US Dollars)\")\n",
    "plt.ylabel(\"Percentile\")\n",
    "\n",
    "plt.subplot(122)\n",
    "plt.plot(ecdf_of_quantity.x, ecdf_of_total.y, marker='o')\n",
    "plt.title(\"ECDF of Purchase Quantity\")\n",
    "plt.xlabel(\"Quantity\")\n",
    "plt.ylabel(\"Percentile\")"
   ]
  },
  {
   "cell_type": "markdown",
   "metadata": {},
   "source": [
    "Looks pretty skewed to me. Rather than using regression, let's frame this as a classification problem.\n",
    "\n",
    "## Prediction Problem\n",
    "\n",
    "---\n",
    "\n",
    "Ultimately, the goal of supervised machine learning is to predict some quantity (regression) or a label (classification). Our data exploration showed that regression isn't the best approach due to the extreme outliers, so instead let's make a classification problem.\n",
    "\n",
    "With this dataset, we could frame an unlimited number of classification problems because there are no labels. Choosing a worthwhile quantity to predict therefore becomes critical. In most real-world situations, we could use a domain expert to frame a problem based on what they know is important in the field, and then it's our objective to make a set of labels and features based on that problem. This is known as prediction engineering. We'll frame the problem as predicting whether or not a customer will **spend more than $500 in the next month**.\n",
    "\n",
    "Instead of picking just a single month for predictions, we can use each customer as a label multiple times. In other words, we not only predict whether a given customer will spend more than $500 in May, but we also ask the same question in June, July, and so on. The thing to note is that for each month, we can't use data from the future to predict the class of spending. Each month we can use information from any previous month which means that our predictions should get more accurate as we advance further in time through the data since we'll be able to use more information. Each label for a customer therefore has a different set of features because there is more or less data available to us depending on the month. Doing this by hand is very tedious and error-prone, so let's use `featuretools` to help us."
   ]
  },
  {
   "cell_type": "markdown",
   "metadata": {},
   "source": [
    "## Making Labels\n",
    "\n",
    "---\n",
    "\n",
    "The function below takes a start and a end date and generates a dataframe of the labels, which depends on how much the customer spent in the period and the thershold.\n",
    "\n",
    "For customers who appear in the data prior to the start date but then do have a purchase in between the start and end date, we set their total to 0. If we simply did not include them in the labels, then that would be cheating since we have no way of knowing ahead of time that they will not spend anything in the next month.\n"
   ]
  },
  {
   "cell_type": "code",
   "execution_count": 25,
   "metadata": {},
   "outputs": [],
   "source": [
    "def make_labelled_data(start_date, end_date, threshold=500):\n",
    "    customers_before_start_date = df[df['InvoiceDate'] < start_date]['CustomerID'].unique()\n",
    "    total_spent_in_time_frame = df[\n",
    "        df['CustomerID'].isin(customers_before_start_date) &\n",
    "        (df['InvoiceDate'] > start_date) &\n",
    "        (df['InvoiceDate'] < end_date)\n",
    "    ].groupby('CustomerID')['Total'].sum().reset_index()\n",
    "    table_with_only_customer_id = pd.DataFrame({'CustomerID': customers_before_start_date})\n",
    "    total_spent_in_time_frame = total_spent_in_time_frame.merge(table_with_only_customer_id, on='CustomerID', how='right')\n",
    "    total_spent_in_time_frame[\"CutoffTime\"] = pd.to_datetime(start_date)\n",
    "    total_spent_in_time_frame[\"Total\"] = total_spent_in_time_frame[\"Total\"].fillna(0)\n",
    "    total_spent_in_time_frame[\"Label\"] = (total_spent_in_time_frame[\"Total\"] > threshold).astype(int)\n",
    "    total_spent_in_time_frame = total_spent_in_time_frame[[\"CustomerID\", \"CutoffTime\", \"Total\", \"Label\"]]\n",
    "    return total_spent_in_time_frame"
   ]
  },
  {
   "cell_type": "code",
   "execution_count": 26,
   "metadata": {},
   "outputs": [
    {
     "data": {
      "text/html": [
       "<div>\n",
       "<style scoped>\n",
       "    .dataframe tbody tr th:only-of-type {\n",
       "        vertical-align: middle;\n",
       "    }\n",
       "\n",
       "    .dataframe tbody tr th {\n",
       "        vertical-align: top;\n",
       "    }\n",
       "\n",
       "    .dataframe thead th {\n",
       "        text-align: right;\n",
       "    }\n",
       "</style>\n",
       "<table border=\"1\" class=\"dataframe\">\n",
       "  <thead>\n",
       "    <tr style=\"text-align: right;\">\n",
       "      <th></th>\n",
       "      <th>CustomerID</th>\n",
       "      <th>CutoffTime</th>\n",
       "      <th>Total</th>\n",
       "      <th>Label</th>\n",
       "    </tr>\n",
       "  </thead>\n",
       "  <tbody>\n",
       "    <tr>\n",
       "      <th>0</th>\n",
       "      <td>12372.0</td>\n",
       "      <td>2011-05-01</td>\n",
       "      <td>675.5670</td>\n",
       "      <td>1</td>\n",
       "    </tr>\n",
       "    <tr>\n",
       "      <th>1</th>\n",
       "      <td>12395.0</td>\n",
       "      <td>2011-05-01</td>\n",
       "      <td>434.6449</td>\n",
       "      <td>0</td>\n",
       "    </tr>\n",
       "    <tr>\n",
       "      <th>2</th>\n",
       "      <td>12399.0</td>\n",
       "      <td>2011-05-01</td>\n",
       "      <td>629.9790</td>\n",
       "      <td>1</td>\n",
       "    </tr>\n",
       "    <tr>\n",
       "      <th>3</th>\n",
       "      <td>12414.0</td>\n",
       "      <td>2011-05-01</td>\n",
       "      <td>217.2635</td>\n",
       "      <td>0</td>\n",
       "    </tr>\n",
       "    <tr>\n",
       "      <th>4</th>\n",
       "      <td>12415.0</td>\n",
       "      <td>2011-05-01</td>\n",
       "      <td>16625.4196</td>\n",
       "      <td>1</td>\n",
       "    </tr>\n",
       "  </tbody>\n",
       "</table>\n",
       "</div>"
      ],
      "text/plain": [
       "   CustomerID CutoffTime       Total  Label\n",
       "0     12372.0 2011-05-01    675.5670      1\n",
       "1     12395.0 2011-05-01    434.6449      0\n",
       "2     12399.0 2011-05-01    629.9790      1\n",
       "3     12414.0 2011-05-01    217.2635      0\n",
       "4     12415.0 2011-05-01  16625.4196      1"
      ]
     },
     "execution_count": 26,
     "metadata": {},
     "output_type": "execute_result"
    }
   ],
   "source": [
    "labelled_data_for_may = make_labelled_data(pd.datetime(2011, 5, 1), pd.datetime(2011, 6, 1))\n",
    "labelled_data_for_may.head()"
   ]
  },
  {
   "cell_type": "markdown",
   "metadata": {},
   "source": [
    "For each customer who appeared in the data before May, we have a label for them for the month of May which is the sum of their spending in May converted to a binary label. When we make features for these labels, we can only use data from before May. `CutoffTime` represents the point at which any data we use must come before and the label is based on our threshold of $500."
   ]
  },
  {
   "cell_type": "code",
   "execution_count": 27,
   "metadata": {},
   "outputs": [
    {
     "data": {
      "text/plain": [
       "(array([0, 1]), <a list of 2 Text xticklabel objects>)"
      ]
     },
     "execution_count": 27,
     "metadata": {},
     "output_type": "execute_result"
    },
    {
     "data": {
      "image/png": "[encoded data removed]",
      "text/plain": [
       "<Figure size 432x288 with 1 Axes>"
      ]
     },
     "metadata": {},
     "output_type": "display_data"
    }
   ],
   "source": [
    "labelled_data_for_may['Label'].value_counts().plot.bar()\n",
    "plt.title(\"Label Distribution for May\")\n",
    "plt.ylabel(\"Count\")\n",
    "plt.xlabel(\"Label\")\n",
    "plt.xticks(rotation=0)"
   ]
  },
  {
   "cell_type": "code",
   "execution_count": 28,
   "metadata": {},
   "outputs": [],
   "source": [
    "labelled_data_for_march = make_labelled_data(pd.datetime(2011, 3, 1), pd.datetime(2011, 4, 1))\n",
    "labelled_data_for_april = make_labelled_data(pd.datetime(2011, 4, 1), pd.datetime(2011, 5, 1))\n",
    "# May was done above.\n",
    "labelled_data_for_june = make_labelled_data(pd.datetime(2011, 6, 1), pd.datetime(2011, 7, 1))\n",
    "labelled_data_for_july = make_labelled_data(pd.datetime(2011, 7, 1), pd.datetime(2011, 8, 1))\n",
    "labelled_data_for_august = make_labelled_data(pd.datetime(2011, 8, 1), pd.datetime(2011, 9, 1))\n",
    "labelled_data_for_september = make_labelled_data(pd.datetime(2011, 9, 1), pd.datetime(2011, 10, 1))\n",
    "labelled_data_for_october = make_labelled_data(pd.datetime(2011, 10, 1), pd.datetime(2011, 11, 1))\n",
    "labelled_data_for_november = make_labelled_data(pd.datetime(2011, 11, 1), pd.datetime(2011, 12, 1))\n",
    "labelled_data_for_december = make_labelled_data(pd.datetime(2011, 12, 1), pd.datetime(2012, 1, 1))"
   ]
  },
  {
   "cell_type": "markdown",
   "metadata": {},
   "source": [
    "We have about 28,000 labels with about 17% being positive."
   ]
  },
  {
   "cell_type": "code",
   "execution_count": 29,
   "metadata": {},
   "outputs": [
    {
     "data": {
      "text/html": [
       "<div>\n",
       "<style scoped>\n",
       "    .dataframe tbody tr th:only-of-type {\n",
       "        vertical-align: middle;\n",
       "    }\n",
       "\n",
       "    .dataframe tbody tr th {\n",
       "        vertical-align: top;\n",
       "    }\n",
       "\n",
       "    .dataframe thead th {\n",
       "        text-align: right;\n",
       "    }\n",
       "</style>\n",
       "<table border=\"1\" class=\"dataframe\">\n",
       "  <thead>\n",
       "    <tr style=\"text-align: right;\">\n",
       "      <th></th>\n",
       "      <th>CustomerID</th>\n",
       "      <th>Total</th>\n",
       "      <th>Label</th>\n",
       "    </tr>\n",
       "  </thead>\n",
       "  <tbody>\n",
       "    <tr>\n",
       "      <th>count</th>\n",
       "      <td>28133.000000</td>\n",
       "      <td>28133.000000</td>\n",
       "      <td>28133.000000</td>\n",
       "    </tr>\n",
       "    <tr>\n",
       "      <th>mean</th>\n",
       "      <td>15268.704155</td>\n",
       "      <td>259.223905</td>\n",
       "      <td>0.129492</td>\n",
       "    </tr>\n",
       "    <tr>\n",
       "      <th>std</th>\n",
       "      <td>1722.948845</td>\n",
       "      <td>1485.011186</td>\n",
       "      <td>0.335750</td>\n",
       "    </tr>\n",
       "    <tr>\n",
       "      <th>min</th>\n",
       "      <td>12346.000000</td>\n",
       "      <td>-4697.450400</td>\n",
       "      <td>0.000000</td>\n",
       "    </tr>\n",
       "    <tr>\n",
       "      <th>25%</th>\n",
       "      <td>13777.000000</td>\n",
       "      <td>0.000000</td>\n",
       "      <td>0.000000</td>\n",
       "    </tr>\n",
       "    <tr>\n",
       "      <th>50%</th>\n",
       "      <td>15235.000000</td>\n",
       "      <td>0.000000</td>\n",
       "      <td>0.000000</td>\n",
       "    </tr>\n",
       "    <tr>\n",
       "      <th>75%</th>\n",
       "      <td>16755.000000</td>\n",
       "      <td>155.628000</td>\n",
       "      <td>0.000000</td>\n",
       "    </tr>\n",
       "    <tr>\n",
       "      <th>max</th>\n",
       "      <td>18287.000000</td>\n",
       "      <td>92022.915000</td>\n",
       "      <td>1.000000</td>\n",
       "    </tr>\n",
       "  </tbody>\n",
       "</table>\n",
       "</div>"
      ],
      "text/plain": [
       "         CustomerID         Total         Label\n",
       "count  28133.000000  28133.000000  28133.000000\n",
       "mean   15268.704155    259.223905      0.129492\n",
       "std     1722.948845   1485.011186      0.335750\n",
       "min    12346.000000  -4697.450400      0.000000\n",
       "25%    13777.000000      0.000000      0.000000\n",
       "50%    15235.000000      0.000000      0.000000\n",
       "75%    16755.000000    155.628000      0.000000\n",
       "max    18287.000000  92022.915000      1.000000"
      ]
     },
     "execution_count": 29,
     "metadata": {},
     "output_type": "execute_result"
    }
   ],
   "source": [
    "labels = pd.concat(\n",
    "    [\n",
    "        labelled_data_for_march,\n",
    "        labelled_data_for_april,\n",
    "        labelled_data_for_may,\n",
    "        labelled_data_for_june,\n",
    "        labelled_data_for_july,\n",
    "        labelled_data_for_august,\n",
    "        labelled_data_for_september,\n",
    "        labelled_data_for_october,\n",
    "        labelled_data_for_november,\n",
    "        labelled_data_for_december\n",
    "    ],\n",
    "    axis=0)\n",
    "labels.describe()"
   ]
  },
  {
   "cell_type": "code",
   "execution_count": 30,
   "metadata": {},
   "outputs": [
    {
     "data": {
      "text/plain": [
       "Text(0.5, 1.0, 'Customer Spending Distribution by Month')"
      ]
     },
     "execution_count": 30,
     "metadata": {},
     "output_type": "execute_result"
    },
    {
     "data": {
      "image/png": "[encoded data removed]",
      "text/plain": [
       "<Figure size 864x432 with 1 Axes>"
      ]
     },
     "metadata": {},
     "output_type": "display_data"
    }
   ],
   "source": [
    "plot_labels = labels.copy()\n",
    "plot_labels[\"Month\"] = plot_labels[\"CutoffTime\"].dt.month\n",
    "plt.figure(figsize=(12, 6))\n",
    "sns.boxplot(\n",
    "    x=\"Month\",\n",
    "    y=\"Total\",\n",
    "    data=plot_labels[(plot_labels[\"Total\"] > 0) & (plot_labels[\"Total\"] < 1000)])\n",
    "plt.title(\"Customer Spending Distribution by Month\")"
   ]
  },
  {
   "cell_type": "markdown",
   "metadata": {},
   "source": [
    "Dive into one customer."
   ]
  },
  {
   "cell_type": "code",
   "execution_count": 31,
   "metadata": {},
   "outputs": [
    {
     "data": {
      "text/html": [
       "<div>\n",
       "<style scoped>\n",
       "    .dataframe tbody tr th:only-of-type {\n",
       "        vertical-align: middle;\n",
       "    }\n",
       "\n",
       "    .dataframe tbody tr th {\n",
       "        vertical-align: top;\n",
       "    }\n",
       "\n",
       "    .dataframe thead th {\n",
       "        text-align: right;\n",
       "    }\n",
       "</style>\n",
       "<table border=\"1\" class=\"dataframe\">\n",
       "  <thead>\n",
       "    <tr style=\"text-align: right;\">\n",
       "      <th></th>\n",
       "      <th>CustomerID</th>\n",
       "      <th>CutoffTime</th>\n",
       "      <th>Total</th>\n",
       "      <th>Label</th>\n",
       "    </tr>\n",
       "  </thead>\n",
       "  <tbody>\n",
       "    <tr>\n",
       "      <th>845</th>\n",
       "      <td>12347.0</td>\n",
       "      <td>2011-03-01</td>\n",
       "      <td>0.0000</td>\n",
       "      <td>0</td>\n",
       "    </tr>\n",
       "    <tr>\n",
       "      <th>0</th>\n",
       "      <td>12347.0</td>\n",
       "      <td>2011-04-01</td>\n",
       "      <td>833.4875</td>\n",
       "      <td>1</td>\n",
       "    </tr>\n",
       "    <tr>\n",
       "      <th>1111</th>\n",
       "      <td>12347.0</td>\n",
       "      <td>2011-05-01</td>\n",
       "      <td>0.0000</td>\n",
       "      <td>0</td>\n",
       "    </tr>\n",
       "    <tr>\n",
       "      <th>0</th>\n",
       "      <td>12347.0</td>\n",
       "      <td>2011-06-01</td>\n",
       "      <td>501.1012</td>\n",
       "      <td>1</td>\n",
       "    </tr>\n",
       "    <tr>\n",
       "      <th>1165</th>\n",
       "      <td>12347.0</td>\n",
       "      <td>2011-07-01</td>\n",
       "      <td>0.0000</td>\n",
       "      <td>0</td>\n",
       "    </tr>\n",
       "    <tr>\n",
       "      <th>0</th>\n",
       "      <td>12347.0</td>\n",
       "      <td>2011-08-01</td>\n",
       "      <td>766.2321</td>\n",
       "      <td>1</td>\n",
       "    </tr>\n",
       "    <tr>\n",
       "      <th>1357</th>\n",
       "      <td>12347.0</td>\n",
       "      <td>2011-09-01</td>\n",
       "      <td>0.0000</td>\n",
       "      <td>0</td>\n",
       "    </tr>\n",
       "    <tr>\n",
       "      <th>0</th>\n",
       "      <td>12347.0</td>\n",
       "      <td>2011-10-01</td>\n",
       "      <td>1695.5592</td>\n",
       "      <td>1</td>\n",
       "    </tr>\n",
       "    <tr>\n",
       "      <th>1658</th>\n",
       "      <td>12347.0</td>\n",
       "      <td>2011-11-01</td>\n",
       "      <td>0.0000</td>\n",
       "      <td>0</td>\n",
       "    </tr>\n",
       "    <tr>\n",
       "      <th>0</th>\n",
       "      <td>12347.0</td>\n",
       "      <td>2011-12-01</td>\n",
       "      <td>294.5142</td>\n",
       "      <td>0</td>\n",
       "    </tr>\n",
       "  </tbody>\n",
       "</table>\n",
       "</div>"
      ],
      "text/plain": [
       "      CustomerID CutoffTime      Total  Label\n",
       "845      12347.0 2011-03-01     0.0000      0\n",
       "0        12347.0 2011-04-01   833.4875      1\n",
       "1111     12347.0 2011-05-01     0.0000      0\n",
       "0        12347.0 2011-06-01   501.1012      1\n",
       "1165     12347.0 2011-07-01     0.0000      0\n",
       "0        12347.0 2011-08-01   766.2321      1\n",
       "1357     12347.0 2011-09-01     0.0000      0\n",
       "0        12347.0 2011-10-01  1695.5592      1\n",
       "1658     12347.0 2011-11-01     0.0000      0\n",
       "0        12347.0 2011-12-01   294.5142      0"
      ]
     },
     "execution_count": 31,
     "metadata": {},
     "output_type": "execute_result"
    }
   ],
   "source": [
    "customer_id = 12347\n",
    "labels.loc[labels['CustomerID'] == customer_id]"
   ]
  },
  {
   "cell_type": "code",
   "execution_count": 32,
   "metadata": {},
   "outputs": [
    {
     "data": {
      "text/plain": [
       "Text(0.5, 1.0, 'Monthly Spending for Customer 12347')"
      ]
     },
     "execution_count": 32,
     "metadata": {},
     "output_type": "execute_result"
    },
    {
     "data": {
      "image/png": "[encoded data removed]",
      "text/plain": [
       "<Figure size 432x288 with 1 Axes>"
      ]
     },
     "metadata": {},
     "output_type": "display_data"
    }
   ],
   "source": [
    "labels.loc[labels['CustomerID'] == customer_id].set_index('CutoffTime')['Total'].plot(figsize=(6, 4))\n",
    "plt.xlabel(\"Month\")\n",
    "plt.ylabel(\"Spending (US Dollars)\")\n",
    "plt.title(\"Monthly Spending for Customer {}\".format(customer_id))"
   ]
  },
  {
   "cell_type": "markdown",
   "metadata": {},
   "source": [
    "## Feature Engineering\n",
    "\n",
    "---\n",
    "\n",
    "Machine learning? There's a library for that (and there's a lot of them). Feature engineering is the hard part of the battle. Fortunately, there's even a library for that now!\n",
    "\n",
    "### Featuretools Implementation\n",
    "\n",
    "#### Create an Entity Set\n",
    "\n",
    "Think of the `EntitySet` as a collection of tables that are all related to each other."
   ]
  },
  {
   "cell_type": "code",
   "execution_count": 33,
   "metadata": {},
   "outputs": [
    {
     "name": "stdout",
     "output_type": "stream",
     "text": [
      "2019-02-06 13:05:16,159 featuretools.entityset - WARNING    index PurchasesIndex not found in dataframe, creating new integer column\n"
     ]
    },
    {
     "data": {
      "text/plain": [
       "Entity: Purchases\n",
       "  Variables:\n",
       "    PurchasesIndex (dtype: index)\n",
       "    InvoiceDate (dtype: datetime_time_index)\n",
       "    InvoiceNo (dtype: categorical)\n",
       "    StockCode (dtype: categorical)\n",
       "    Description (dtype: text)\n",
       "    Quantity (dtype: numeric)\n",
       "    UnitPrice (dtype: numeric)\n",
       "    CustomerID (dtype: numeric)\n",
       "    Country (dtype: categorical)\n",
       "    Total (dtype: numeric)\n",
       "    Cancelled (dtype: boolean)\n",
       "  Shape:\n",
       "    (Rows: 375250, Columns: 11)"
      ]
     },
     "execution_count": 33,
     "metadata": {},
     "output_type": "execute_result"
    }
   ],
   "source": [
    "es = ft.EntitySet(id=\"Online Retail Logs\")\n",
    "es.entity_from_dataframe(\n",
    "    \"Purchases\",\n",
    "    dataframe=df,\n",
    "    index=\"PurchasesIndex\",\n",
    "    time_index=\"InvoiceDate\",\n",
    "    variable_types={\n",
    "        \"InvoiceNo\": ft.variable_types.Categorical,\n",
    "        \"StockCode\": ft.variable_types.Categorical,\n",
    "        \"Description\": ft.variable_types.Text,\n",
    "        \"Quantity\": ft.variable_types.Numeric,\n",
    "        # \"InvoiceDate\": ft.variable_types.Datetime,\n",
    "        \"UnitPrice\": ft.variable_types.Numeric,\n",
    "        \"CustomerID\": ft.variable_types.Numeric,\n",
    "        \"Country\": ft.variable_types.Categorical,\n",
    "        \"Total\": ft.variable_types.Numeric,\n",
    "        \"Cancelled\": ft.variable_types.Boolean\n",
    "    }\n",
    ")\n",
    "es[\"Purchases\"]"
   ]
  },
  {
   "cell_type": "markdown",
   "metadata": {},
   "source": [
    "#### Normalize Entities"
   ]
  },
  {
   "cell_type": "markdown",
   "metadata": {},
   "source": [
    "We can create tables out of the original table/entity by normalizing. This creates new tables by creating a unique row for every variable we pass in, such as the customer or product.\n",
    "\n",
    "The code below creates a new entity for the products where the grain is one product per row and the columns describe the product. `normalize_entity` automatically creates the relationships and time index. If we want to include any additional variables in the table, we can pass those in. Here we add the description.\n",
    "\n",
    "Notice that the first purchase time is automatically created because the purchases table has a time index. This represents the first time the product appears in the purchase data. Featuretools automatically filters data from this table for each label so taht we only build valid features."
   ]
  },
  {
   "cell_type": "code",
   "execution_count": 34,
   "metadata": {},
   "outputs": [
    {
     "data": {
      "text/html": [
       "<div>\n",
       "<style scoped>\n",
       "    .dataframe tbody tr th:only-of-type {\n",
       "        vertical-align: middle;\n",
       "    }\n",
       "\n",
       "    .dataframe tbody tr th {\n",
       "        vertical-align: top;\n",
       "    }\n",
       "\n",
       "    .dataframe thead th {\n",
       "        text-align: right;\n",
       "    }\n",
       "</style>\n",
       "<table border=\"1\" class=\"dataframe\">\n",
       "  <thead>\n",
       "    <tr style=\"text-align: right;\">\n",
       "      <th></th>\n",
       "      <th>StockCode</th>\n",
       "      <th>Description</th>\n",
       "      <th>first_Purchases_time</th>\n",
       "    </tr>\n",
       "  </thead>\n",
       "  <tbody>\n",
       "    <tr>\n",
       "      <th>20682</th>\n",
       "      <td>20682</td>\n",
       "      <td>RED RETROSPOT CHILDRENS UMBRELLA</td>\n",
       "      <td>2011-01-04 10:00:00</td>\n",
       "    </tr>\n",
       "    <tr>\n",
       "      <th>20718</th>\n",
       "      <td>20718</td>\n",
       "      <td>RED RETROSPOT SHOPPER BAG</td>\n",
       "      <td>2011-01-04 10:00:00</td>\n",
       "    </tr>\n",
       "    <tr>\n",
       "      <th>21498</th>\n",
       "      <td>21498</td>\n",
       "      <td>RED RETROSPOT WRAP</td>\n",
       "      <td>2011-01-04 10:00:00</td>\n",
       "    </tr>\n",
       "    <tr>\n",
       "      <th>21499</th>\n",
       "      <td>21499</td>\n",
       "      <td>BLUE POLKADOT WRAP</td>\n",
       "      <td>2011-01-04 10:00:00</td>\n",
       "    </tr>\n",
       "    <tr>\n",
       "      <th>22302</th>\n",
       "      <td>22302</td>\n",
       "      <td>COFFEE MUG PEARS  DESIGN</td>\n",
       "      <td>2011-01-04 10:00:00</td>\n",
       "    </tr>\n",
       "  </tbody>\n",
       "</table>\n",
       "</div>"
      ],
      "text/plain": [
       "      StockCode                       Description first_Purchases_time\n",
       "20682     20682  RED RETROSPOT CHILDRENS UMBRELLA  2011-01-04 10:00:00\n",
       "20718     20718         RED RETROSPOT SHOPPER BAG  2011-01-04 10:00:00\n",
       "21498     21498               RED RETROSPOT WRAP   2011-01-04 10:00:00\n",
       "21499     21499                BLUE POLKADOT WRAP  2011-01-04 10:00:00\n",
       "22302     22302          COFFEE MUG PEARS  DESIGN  2011-01-04 10:00:00"
      ]
     },
     "execution_count": 34,
     "metadata": {},
     "output_type": "execute_result"
    }
   ],
   "source": [
    "es.normalize_entity(\n",
    "    new_entity_id=\"Products\",\n",
    "    base_entity_id=\"Purchases\",\n",
    "    index=\"StockCode\",\n",
    "    additional_variables=[\"Description\"]\n",
    ")\n",
    "es[\"Products\"].df.head()"
   ]
  },
  {
   "cell_type": "markdown",
   "metadata": {},
   "source": [
    "We can see now that the Stock code is reference as an ID."
   ]
  },
  {
   "cell_type": "code",
   "execution_count": 35,
   "metadata": {},
   "outputs": [
    {
     "data": {
      "text/plain": [
       "Entity: Purchases\n",
       "  Variables:\n",
       "    PurchasesIndex (dtype: index)\n",
       "    InvoiceDate (dtype: datetime_time_index)\n",
       "    InvoiceNo (dtype: categorical)\n",
       "    StockCode (dtype: id)\n",
       "    Quantity (dtype: numeric)\n",
       "    UnitPrice (dtype: numeric)\n",
       "    CustomerID (dtype: numeric)\n",
       "    Country (dtype: categorical)\n",
       "    Total (dtype: numeric)\n",
       "    Cancelled (dtype: boolean)\n",
       "  Shape:\n",
       "    (Rows: 375250, Columns: 10)"
      ]
     },
     "execution_count": 35,
     "metadata": {},
     "output_type": "execute_result"
    }
   ],
   "source": [
    "es['Purchases']"
   ]
  },
  {
   "cell_type": "markdown",
   "metadata": {},
   "source": [
    "Let's create new tables for the customers and orders."
   ]
  },
  {
   "cell_type": "code",
   "execution_count": 36,
   "metadata": {},
   "outputs": [
    {
     "data": {
      "text/plain": [
       "Entityset: Online Retail Logs\n",
       "  Entities:\n",
       "    Purchases [Rows: 375250, Columns: 8]\n",
       "    Products [Rows: 3612, Columns: 3]\n",
       "    Customers [Rows: 4244, Columns: 2]\n",
       "    Invoices [Rows: 20482, Columns: 4]\n",
       "  Relationships:\n",
       "    Purchases.StockCode -> Products.StockCode\n",
       "    Purchases.CustomerID -> Customers.CustomerID\n",
       "    Purchases.InvoiceNo -> Invoices.InvoiceNo"
      ]
     },
     "execution_count": 36,
     "metadata": {},
     "output_type": "execute_result"
    }
   ],
   "source": [
    "es.normalize_entity(\n",
    "    new_entity_id=\"Customers\",\n",
    "    base_entity_id=\"Purchases\",\n",
    "    index=\"CustomerID\"\n",
    ")\n",
    "es.normalize_entity(\n",
    "    new_entity_id=\"Invoices\",\n",
    "    base_entity_id=\"Purchases\",\n",
    "    index=\"InvoiceNo\",\n",
    "    additional_variables=[\"Country\", \"Cancelled\"]\n",
    ")\n",
    "es"
   ]
  },
  {
   "cell_type": "markdown",
   "metadata": {},
   "source": [
    "#### Deep Feature Synthesis\n",
    "\n",
    "Now that we have our entity set, we can use [deep feature synthesis](http://www.jmaxkanter.com/static/papers/DSAA_DSM_2015.pdf) to generate many features. We can make features for any entity, but sine we're trying to classify customer spending, we'll make features for each customer for each month.\n",
    "\n",
    "To ensure the features are valid for the customer and the month, we'll pass in the labels dataframe that has the cutoff time for each customer for each month. Featuretools will make one row for each customer for each month, with the features for each month derived only from data prior to the cutoff time.\n",
    "\n",
    "When we have an entire dataset and access to all the data, we must prevent ourselves from using all of it when building features since when our model is deployed, it won't have access to data from the future!\n",
    "\n",
    "The requirements are that the table contains the IDs corresponding to the index of the target entity and the table must have cutoff times. Featuretools takes care of the rest, for each month making features using only valid data. The code below generates features for each customer, resulting in a feature matrix where each row consists of one customer for one month, the customers features and the label."
   ]
  },
  {
   "cell_type": "code",
   "execution_count": 37,
   "metadata": {},
   "outputs": [
    {
     "name": "stdout",
     "output_type": "stream",
     "text": [
      "Built 27 features\n",
      "EntitySet scattered to workers in 3.283 seconds\n",
      "Elapsed: 01:13 | Remaining: 00:00 | Progress: 100%|██████████| Calculated: 1/1 chunks\n"
     ]
    }
   ],
   "source": [
    "feature_matrix, feature_names = ft.dfs(\n",
    "    entityset=es,\n",
    "    target_entity=\"Customers\",\n",
    "    cutoff_time=labels,\n",
    "    verbose=2,\n",
    "    cutoff_time_in_index=True,\n",
    "    chunk_size=len(labels),\n",
    "    n_jobs=-1,\n",
    "    max_depth=1\n",
    ")"
   ]
  },
  {
   "cell_type": "code",
   "execution_count": 38,
   "metadata": {},
   "outputs": [
    {
     "data": {
      "text/html": [
       "<div>\n",
       "<style scoped>\n",
       "    .dataframe tbody tr th:only-of-type {\n",
       "        vertical-align: middle;\n",
       "    }\n",
       "\n",
       "    .dataframe tbody tr th {\n",
       "        vertical-align: top;\n",
       "    }\n",
       "\n",
       "    .dataframe thead th {\n",
       "        text-align: right;\n",
       "    }\n",
       "</style>\n",
       "<table border=\"1\" class=\"dataframe\">\n",
       "  <thead>\n",
       "    <tr style=\"text-align: right;\">\n",
       "      <th></th>\n",
       "      <th></th>\n",
       "      <th>SUM(Purchases.Quantity)</th>\n",
       "      <th>SUM(Purchases.UnitPrice)</th>\n",
       "      <th>SUM(Purchases.Total)</th>\n",
       "      <th>STD(Purchases.Quantity)</th>\n",
       "      <th>STD(Purchases.UnitPrice)</th>\n",
       "      <th>STD(Purchases.Total)</th>\n",
       "      <th>MAX(Purchases.Quantity)</th>\n",
       "      <th>MAX(Purchases.UnitPrice)</th>\n",
       "      <th>MAX(Purchases.Total)</th>\n",
       "      <th>SKEW(Purchases.Quantity)</th>\n",
       "      <th>SKEW(Purchases.UnitPrice)</th>\n",
       "      <th>SKEW(Purchases.Total)</th>\n",
       "      <th>MIN(Purchases.Quantity)</th>\n",
       "      <th>MIN(Purchases.UnitPrice)</th>\n",
       "      <th>MIN(Purchases.Total)</th>\n",
       "      <th>MEAN(Purchases.Quantity)</th>\n",
       "      <th>MEAN(Purchases.UnitPrice)</th>\n",
       "      <th>MEAN(Purchases.Total)</th>\n",
       "      <th>COUNT(Purchases)</th>\n",
       "      <th>NUM_UNIQUE(Purchases.InvoiceNo)</th>\n",
       "      <th>NUM_UNIQUE(Purchases.StockCode)</th>\n",
       "      <th>MODE(Purchases.InvoiceNo)</th>\n",
       "      <th>MODE(Purchases.StockCode)</th>\n",
       "      <th>DAY(first_Purchases_time)</th>\n",
       "      <th>YEAR(first_Purchases_time)</th>\n",
       "      <th>MONTH(first_Purchases_time)</th>\n",
       "      <th>WEEKDAY(first_Purchases_time)</th>\n",
       "      <th>Total</th>\n",
       "      <th>Label</th>\n",
       "    </tr>\n",
       "    <tr>\n",
       "      <th>CustomerID</th>\n",
       "      <th>time</th>\n",
       "      <th></th>\n",
       "      <th></th>\n",
       "      <th></th>\n",
       "      <th></th>\n",
       "      <th></th>\n",
       "      <th></th>\n",
       "      <th></th>\n",
       "      <th></th>\n",
       "      <th></th>\n",
       "      <th></th>\n",
       "      <th></th>\n",
       "      <th></th>\n",
       "      <th></th>\n",
       "      <th></th>\n",
       "      <th></th>\n",
       "      <th></th>\n",
       "      <th></th>\n",
       "      <th></th>\n",
       "      <th></th>\n",
       "      <th></th>\n",
       "      <th></th>\n",
       "      <th></th>\n",
       "      <th></th>\n",
       "      <th></th>\n",
       "      <th></th>\n",
       "      <th></th>\n",
       "      <th></th>\n",
       "      <th></th>\n",
       "      <th></th>\n",
       "    </tr>\n",
       "  </thead>\n",
       "  <tbody>\n",
       "    <tr>\n",
       "      <th>12346.0</th>\n",
       "      <th>2011-03-01</th>\n",
       "      <td>0</td>\n",
       "      <td>2.7248</td>\n",
       "      <td>0.0000</td>\n",
       "      <td>104955.859532</td>\n",
       "      <td>0.000000</td>\n",
       "      <td>142991.863026</td>\n",
       "      <td>74215</td>\n",
       "      <td>1.3624</td>\n",
       "      <td>101110.5160</td>\n",
       "      <td>NaN</td>\n",
       "      <td>NaN</td>\n",
       "      <td>NaN</td>\n",
       "      <td>-74215</td>\n",
       "      <td>1.3624</td>\n",
       "      <td>-101110.5160</td>\n",
       "      <td>0.000000</td>\n",
       "      <td>1.362400</td>\n",
       "      <td>0.000000</td>\n",
       "      <td>2</td>\n",
       "      <td>2</td>\n",
       "      <td>1</td>\n",
       "      <td>C541433</td>\n",
       "      <td>23166</td>\n",
       "      <td>18</td>\n",
       "      <td>2011</td>\n",
       "      <td>1</td>\n",
       "      <td>1</td>\n",
       "      <td>0.0000</td>\n",
       "      <td>0</td>\n",
       "    </tr>\n",
       "    <tr>\n",
       "      <th>12347.0</th>\n",
       "      <th>2011-03-01</th>\n",
       "      <td>315</td>\n",
       "      <td>95.8527</td>\n",
       "      <td>622.7609</td>\n",
       "      <td>7.510584</td>\n",
       "      <td>3.188314</td>\n",
       "      <td>9.248202</td>\n",
       "      <td>24</td>\n",
       "      <td>16.7025</td>\n",
       "      <td>50.1075</td>\n",
       "      <td>0.912823</td>\n",
       "      <td>2.731972</td>\n",
       "      <td>1.643541</td>\n",
       "      <td>3</td>\n",
       "      <td>0.5502</td>\n",
       "      <td>6.6024</td>\n",
       "      <td>10.862069</td>\n",
       "      <td>3.305266</td>\n",
       "      <td>21.474514</td>\n",
       "      <td>29</td>\n",
       "      <td>1</td>\n",
       "      <td>29</td>\n",
       "      <td>542237</td>\n",
       "      <td>84992</td>\n",
       "      <td>26</td>\n",
       "      <td>2011</td>\n",
       "      <td>1</td>\n",
       "      <td>2</td>\n",
       "      <td>0.0000</td>\n",
       "      <td>0</td>\n",
       "    </tr>\n",
       "    <tr>\n",
       "      <th>12348.0</th>\n",
       "      <th>2011-03-01</th>\n",
       "      <td>601</td>\n",
       "      <td>55.0331</td>\n",
       "      <td>297.9464</td>\n",
       "      <td>68.294705</td>\n",
       "      <td>21.179252</td>\n",
       "      <td>11.272976</td>\n",
       "      <td>144</td>\n",
       "      <td>52.4000</td>\n",
       "      <td>54.7056</td>\n",
       "      <td>-1.017335</td>\n",
       "      <td>2.448438</td>\n",
       "      <td>-2.413917</td>\n",
       "      <td>1</td>\n",
       "      <td>0.3799</td>\n",
       "      <td>26.7240</td>\n",
       "      <td>100.166667</td>\n",
       "      <td>9.172183</td>\n",
       "      <td>49.657733</td>\n",
       "      <td>6</td>\n",
       "      <td>1</td>\n",
       "      <td>6</td>\n",
       "      <td>541998</td>\n",
       "      <td>21967</td>\n",
       "      <td>25</td>\n",
       "      <td>2011</td>\n",
       "      <td>1</td>\n",
       "      <td>1</td>\n",
       "      <td>0.0000</td>\n",
       "      <td>0</td>\n",
       "    </tr>\n",
       "    <tr>\n",
       "      <th>12350.0</th>\n",
       "      <th>2011-03-01</th>\n",
       "      <td>197</td>\n",
       "      <td>85.5430</td>\n",
       "      <td>438.0640</td>\n",
       "      <td>4.345383</td>\n",
       "      <td>12.228524</td>\n",
       "      <td>9.530955</td>\n",
       "      <td>24</td>\n",
       "      <td>52.4000</td>\n",
       "      <td>52.4000</td>\n",
       "      <td>0.472554</td>\n",
       "      <td>4.098028</td>\n",
       "      <td>1.178640</td>\n",
       "      <td>1</td>\n",
       "      <td>1.1135</td>\n",
       "      <td>11.1350</td>\n",
       "      <td>11.588235</td>\n",
       "      <td>5.031941</td>\n",
       "      <td>25.768471</td>\n",
       "      <td>17</td>\n",
       "      <td>1</td>\n",
       "      <td>17</td>\n",
       "      <td>543037</td>\n",
       "      <td>POST</td>\n",
       "      <td>2</td>\n",
       "      <td>2011</td>\n",
       "      <td>2</td>\n",
       "      <td>2</td>\n",
       "      <td>0.0000</td>\n",
       "      <td>0</td>\n",
       "    </tr>\n",
       "    <tr>\n",
       "      <th>12352.0</th>\n",
       "      <th>2011-03-01</th>\n",
       "      <td>98</td>\n",
       "      <td>89.5385</td>\n",
       "      <td>388.4150</td>\n",
       "      <td>4.120795</td>\n",
       "      <td>4.401251</td>\n",
       "      <td>8.652082</td>\n",
       "      <td>12</td>\n",
       "      <td>16.7025</td>\n",
       "      <td>50.1075</td>\n",
       "      <td>0.611699</td>\n",
       "      <td>1.199523</td>\n",
       "      <td>1.805450</td>\n",
       "      <td>3</td>\n",
       "      <td>1.1135</td>\n",
       "      <td>13.3620</td>\n",
       "      <td>6.533333</td>\n",
       "      <td>5.969233</td>\n",
       "      <td>25.894333</td>\n",
       "      <td>15</td>\n",
       "      <td>1</td>\n",
       "      <td>15</td>\n",
       "      <td>544156</td>\n",
       "      <td>21232</td>\n",
       "      <td>16</td>\n",
       "      <td>2011</td>\n",
       "      <td>2</td>\n",
       "      <td>2</td>\n",
       "      <td>399.1308</td>\n",
       "      <td>0</td>\n",
       "    </tr>\n",
       "  </tbody>\n",
       "</table>\n",
       "</div>"
      ],
      "text/plain": [
       "                       SUM(Purchases.Quantity)  SUM(Purchases.UnitPrice)  \\\n",
       "CustomerID time                                                            \n",
       "12346.0    2011-03-01                        0                    2.7248   \n",
       "12347.0    2011-03-01                      315                   95.8527   \n",
       "12348.0    2011-03-01                      601                   55.0331   \n",
       "12350.0    2011-03-01                      197                   85.5430   \n",
       "12352.0    2011-03-01                       98                   89.5385   \n",
       "\n",
       "                       SUM(Purchases.Total)  STD(Purchases.Quantity)  \\\n",
       "CustomerID time                                                        \n",
       "12346.0    2011-03-01                0.0000            104955.859532   \n",
       "12347.0    2011-03-01              622.7609                 7.510584   \n",
       "12348.0    2011-03-01              297.9464                68.294705   \n",
       "12350.0    2011-03-01              438.0640                 4.345383   \n",
       "12352.0    2011-03-01              388.4150                 4.120795   \n",
       "\n",
       "                       STD(Purchases.UnitPrice)  STD(Purchases.Total)  \\\n",
       "CustomerID time                                                         \n",
       "12346.0    2011-03-01                  0.000000         142991.863026   \n",
       "12347.0    2011-03-01                  3.188314              9.248202   \n",
       "12348.0    2011-03-01                 21.179252             11.272976   \n",
       "12350.0    2011-03-01                 12.228524              9.530955   \n",
       "12352.0    2011-03-01                  4.401251              8.652082   \n",
       "\n",
       "                       MAX(Purchases.Quantity)  MAX(Purchases.UnitPrice)  \\\n",
       "CustomerID time                                                            \n",
       "12346.0    2011-03-01                    74215                    1.3624   \n",
       "12347.0    2011-03-01                       24                   16.7025   \n",
       "12348.0    2011-03-01                      144                   52.4000   \n",
       "12350.0    2011-03-01                       24                   52.4000   \n",
       "12352.0    2011-03-01                       12                   16.7025   \n",
       "\n",
       "                       MAX(Purchases.Total)  SKEW(Purchases.Quantity)  \\\n",
       "CustomerID time                                                         \n",
       "12346.0    2011-03-01           101110.5160                       NaN   \n",
       "12347.0    2011-03-01               50.1075                  0.912823   \n",
       "12348.0    2011-03-01               54.7056                 -1.017335   \n",
       "12350.0    2011-03-01               52.4000                  0.472554   \n",
       "12352.0    2011-03-01               50.1075                  0.611699   \n",
       "\n",
       "                       SKEW(Purchases.UnitPrice)  SKEW(Purchases.Total)  \\\n",
       "CustomerID time                                                           \n",
       "12346.0    2011-03-01                        NaN                    NaN   \n",
       "12347.0    2011-03-01                   2.731972               1.643541   \n",
       "12348.0    2011-03-01                   2.448438              -2.413917   \n",
       "12350.0    2011-03-01                   4.098028               1.178640   \n",
       "12352.0    2011-03-01                   1.199523               1.805450   \n",
       "\n",
       "                       MIN(Purchases.Quantity)  MIN(Purchases.UnitPrice)  \\\n",
       "CustomerID time                                                            \n",
       "12346.0    2011-03-01                   -74215                    1.3624   \n",
       "12347.0    2011-03-01                        3                    0.5502   \n",
       "12348.0    2011-03-01                        1                    0.3799   \n",
       "12350.0    2011-03-01                        1                    1.1135   \n",
       "12352.0    2011-03-01                        3                    1.1135   \n",
       "\n",
       "                       MIN(Purchases.Total)  MEAN(Purchases.Quantity)  \\\n",
       "CustomerID time                                                         \n",
       "12346.0    2011-03-01          -101110.5160                  0.000000   \n",
       "12347.0    2011-03-01                6.6024                 10.862069   \n",
       "12348.0    2011-03-01               26.7240                100.166667   \n",
       "12350.0    2011-03-01               11.1350                 11.588235   \n",
       "12352.0    2011-03-01               13.3620                  6.533333   \n",
       "\n",
       "                       MEAN(Purchases.UnitPrice)  MEAN(Purchases.Total)  \\\n",
       "CustomerID time                                                           \n",
       "12346.0    2011-03-01                   1.362400               0.000000   \n",
       "12347.0    2011-03-01                   3.305266              21.474514   \n",
       "12348.0    2011-03-01                   9.172183              49.657733   \n",
       "12350.0    2011-03-01                   5.031941              25.768471   \n",
       "12352.0    2011-03-01                   5.969233              25.894333   \n",
       "\n",
       "                       COUNT(Purchases)  NUM_UNIQUE(Purchases.InvoiceNo)  \\\n",
       "CustomerID time                                                            \n",
       "12346.0    2011-03-01                 2                                2   \n",
       "12347.0    2011-03-01                29                                1   \n",
       "12348.0    2011-03-01                 6                                1   \n",
       "12350.0    2011-03-01                17                                1   \n",
       "12352.0    2011-03-01                15                                1   \n",
       "\n",
       "                       NUM_UNIQUE(Purchases.StockCode)  \\\n",
       "CustomerID time                                          \n",
       "12346.0    2011-03-01                                1   \n",
       "12347.0    2011-03-01                               29   \n",
       "12348.0    2011-03-01                                6   \n",
       "12350.0    2011-03-01                               17   \n",
       "12352.0    2011-03-01                               15   \n",
       "\n",
       "                      MODE(Purchases.InvoiceNo) MODE(Purchases.StockCode)  \\\n",
       "CustomerID time                                                             \n",
       "12346.0    2011-03-01                   C541433                     23166   \n",
       "12347.0    2011-03-01                    542237                     84992   \n",
       "12348.0    2011-03-01                    541998                     21967   \n",
       "12350.0    2011-03-01                    543037                      POST   \n",
       "12352.0    2011-03-01                    544156                     21232   \n",
       "\n",
       "                       DAY(first_Purchases_time)  YEAR(first_Purchases_time)  \\\n",
       "CustomerID time                                                                \n",
       "12346.0    2011-03-01                         18                        2011   \n",
       "12347.0    2011-03-01                         26                        2011   \n",
       "12348.0    2011-03-01                         25                        2011   \n",
       "12350.0    2011-03-01                          2                        2011   \n",
       "12352.0    2011-03-01                         16                        2011   \n",
       "\n",
       "                       MONTH(first_Purchases_time)  \\\n",
       "CustomerID time                                      \n",
       "12346.0    2011-03-01                            1   \n",
       "12347.0    2011-03-01                            1   \n",
       "12348.0    2011-03-01                            1   \n",
       "12350.0    2011-03-01                            2   \n",
       "12352.0    2011-03-01                            2   \n",
       "\n",
       "                       WEEKDAY(first_Purchases_time)     Total  Label  \n",
       "CustomerID time                                                        \n",
       "12346.0    2011-03-01                              1    0.0000      0  \n",
       "12347.0    2011-03-01                              2    0.0000      0  \n",
       "12348.0    2011-03-01                              1    0.0000      0  \n",
       "12350.0    2011-03-01                              2    0.0000      0  \n",
       "12352.0    2011-03-01                              2  399.1308      0  "
      ]
     },
     "execution_count": 38,
     "metadata": {},
     "output_type": "execute_result"
    }
   ],
   "source": [
    "feature_matrix.head()"
   ]
  },
  {
   "cell_type": "markdown",
   "metadata": {},
   "source": [
    "<font color='red'>Look into this more!</font> Why are some `NaN`? For now, let's just fill em. Shouldn't they be zero? Come back to this later if you have time."
   ]
  },
  {
   "cell_type": "code",
   "execution_count": 39,
   "metadata": {},
   "outputs": [
    {
     "data": {
      "text/html": [
       "<div>\n",
       "<style scoped>\n",
       "    .dataframe tbody tr th:only-of-type {\n",
       "        vertical-align: middle;\n",
       "    }\n",
       "\n",
       "    .dataframe tbody tr th {\n",
       "        vertical-align: top;\n",
       "    }\n",
       "\n",
       "    .dataframe thead th {\n",
       "        text-align: right;\n",
       "    }\n",
       "</style>\n",
       "<table border=\"1\" class=\"dataframe\">\n",
       "  <thead>\n",
       "    <tr style=\"text-align: right;\">\n",
       "      <th></th>\n",
       "      <th></th>\n",
       "      <th>SUM(Purchases.Quantity)</th>\n",
       "      <th>SUM(Purchases.UnitPrice)</th>\n",
       "      <th>SUM(Purchases.Total)</th>\n",
       "      <th>STD(Purchases.Quantity)</th>\n",
       "      <th>STD(Purchases.UnitPrice)</th>\n",
       "      <th>STD(Purchases.Total)</th>\n",
       "      <th>MAX(Purchases.Quantity)</th>\n",
       "      <th>MAX(Purchases.UnitPrice)</th>\n",
       "      <th>MAX(Purchases.Total)</th>\n",
       "      <th>SKEW(Purchases.Quantity)</th>\n",
       "      <th>SKEW(Purchases.UnitPrice)</th>\n",
       "      <th>SKEW(Purchases.Total)</th>\n",
       "      <th>MIN(Purchases.Quantity)</th>\n",
       "      <th>MIN(Purchases.UnitPrice)</th>\n",
       "      <th>MIN(Purchases.Total)</th>\n",
       "      <th>MEAN(Purchases.Quantity)</th>\n",
       "      <th>MEAN(Purchases.UnitPrice)</th>\n",
       "      <th>MEAN(Purchases.Total)</th>\n",
       "      <th>COUNT(Purchases)</th>\n",
       "      <th>NUM_UNIQUE(Purchases.InvoiceNo)</th>\n",
       "      <th>NUM_UNIQUE(Purchases.StockCode)</th>\n",
       "      <th>MODE(Purchases.InvoiceNo)</th>\n",
       "      <th>MODE(Purchases.StockCode)</th>\n",
       "      <th>DAY(first_Purchases_time)</th>\n",
       "      <th>YEAR(first_Purchases_time)</th>\n",
       "      <th>MONTH(first_Purchases_time)</th>\n",
       "      <th>WEEKDAY(first_Purchases_time)</th>\n",
       "      <th>Total</th>\n",
       "      <th>Label</th>\n",
       "    </tr>\n",
       "    <tr>\n",
       "      <th>CustomerID</th>\n",
       "      <th>time</th>\n",
       "      <th></th>\n",
       "      <th></th>\n",
       "      <th></th>\n",
       "      <th></th>\n",
       "      <th></th>\n",
       "      <th></th>\n",
       "      <th></th>\n",
       "      <th></th>\n",
       "      <th></th>\n",
       "      <th></th>\n",
       "      <th></th>\n",
       "      <th></th>\n",
       "      <th></th>\n",
       "      <th></th>\n",
       "      <th></th>\n",
       "      <th></th>\n",
       "      <th></th>\n",
       "      <th></th>\n",
       "      <th></th>\n",
       "      <th></th>\n",
       "      <th></th>\n",
       "      <th></th>\n",
       "      <th></th>\n",
       "      <th></th>\n",
       "      <th></th>\n",
       "      <th></th>\n",
       "      <th></th>\n",
       "      <th></th>\n",
       "      <th></th>\n",
       "    </tr>\n",
       "  </thead>\n",
       "  <tbody>\n",
       "    <tr>\n",
       "      <th>12346.0</th>\n",
       "      <th>2011-03-01</th>\n",
       "      <td>0</td>\n",
       "      <td>2.7248</td>\n",
       "      <td>0.0000</td>\n",
       "      <td>104955.859532</td>\n",
       "      <td>0.000000</td>\n",
       "      <td>142991.863026</td>\n",
       "      <td>74215</td>\n",
       "      <td>1.3624</td>\n",
       "      <td>101110.5160</td>\n",
       "      <td>0.000000</td>\n",
       "      <td>0.000000</td>\n",
       "      <td>0.000000</td>\n",
       "      <td>-74215</td>\n",
       "      <td>1.3624</td>\n",
       "      <td>-101110.5160</td>\n",
       "      <td>0.000000</td>\n",
       "      <td>1.362400</td>\n",
       "      <td>0.000000</td>\n",
       "      <td>2</td>\n",
       "      <td>2</td>\n",
       "      <td>1</td>\n",
       "      <td>C541433</td>\n",
       "      <td>23166</td>\n",
       "      <td>18</td>\n",
       "      <td>2011</td>\n",
       "      <td>1</td>\n",
       "      <td>1</td>\n",
       "      <td>0.0000</td>\n",
       "      <td>0</td>\n",
       "    </tr>\n",
       "    <tr>\n",
       "      <th>12347.0</th>\n",
       "      <th>2011-03-01</th>\n",
       "      <td>315</td>\n",
       "      <td>95.8527</td>\n",
       "      <td>622.7609</td>\n",
       "      <td>7.510584</td>\n",
       "      <td>3.188314</td>\n",
       "      <td>9.248202</td>\n",
       "      <td>24</td>\n",
       "      <td>16.7025</td>\n",
       "      <td>50.1075</td>\n",
       "      <td>0.912823</td>\n",
       "      <td>2.731972</td>\n",
       "      <td>1.643541</td>\n",
       "      <td>3</td>\n",
       "      <td>0.5502</td>\n",
       "      <td>6.6024</td>\n",
       "      <td>10.862069</td>\n",
       "      <td>3.305266</td>\n",
       "      <td>21.474514</td>\n",
       "      <td>29</td>\n",
       "      <td>1</td>\n",
       "      <td>29</td>\n",
       "      <td>542237</td>\n",
       "      <td>84992</td>\n",
       "      <td>26</td>\n",
       "      <td>2011</td>\n",
       "      <td>1</td>\n",
       "      <td>2</td>\n",
       "      <td>0.0000</td>\n",
       "      <td>0</td>\n",
       "    </tr>\n",
       "    <tr>\n",
       "      <th>12348.0</th>\n",
       "      <th>2011-03-01</th>\n",
       "      <td>601</td>\n",
       "      <td>55.0331</td>\n",
       "      <td>297.9464</td>\n",
       "      <td>68.294705</td>\n",
       "      <td>21.179252</td>\n",
       "      <td>11.272976</td>\n",
       "      <td>144</td>\n",
       "      <td>52.4000</td>\n",
       "      <td>54.7056</td>\n",
       "      <td>-1.017335</td>\n",
       "      <td>2.448438</td>\n",
       "      <td>-2.413917</td>\n",
       "      <td>1</td>\n",
       "      <td>0.3799</td>\n",
       "      <td>26.7240</td>\n",
       "      <td>100.166667</td>\n",
       "      <td>9.172183</td>\n",
       "      <td>49.657733</td>\n",
       "      <td>6</td>\n",
       "      <td>1</td>\n",
       "      <td>6</td>\n",
       "      <td>541998</td>\n",
       "      <td>21967</td>\n",
       "      <td>25</td>\n",
       "      <td>2011</td>\n",
       "      <td>1</td>\n",
       "      <td>1</td>\n",
       "      <td>0.0000</td>\n",
       "      <td>0</td>\n",
       "    </tr>\n",
       "    <tr>\n",
       "      <th>12350.0</th>\n",
       "      <th>2011-03-01</th>\n",
       "      <td>197</td>\n",
       "      <td>85.5430</td>\n",
       "      <td>438.0640</td>\n",
       "      <td>4.345383</td>\n",
       "      <td>12.228524</td>\n",
       "      <td>9.530955</td>\n",
       "      <td>24</td>\n",
       "      <td>52.4000</td>\n",
       "      <td>52.4000</td>\n",
       "      <td>0.472554</td>\n",
       "      <td>4.098028</td>\n",
       "      <td>1.178640</td>\n",
       "      <td>1</td>\n",
       "      <td>1.1135</td>\n",
       "      <td>11.1350</td>\n",
       "      <td>11.588235</td>\n",
       "      <td>5.031941</td>\n",
       "      <td>25.768471</td>\n",
       "      <td>17</td>\n",
       "      <td>1</td>\n",
       "      <td>17</td>\n",
       "      <td>543037</td>\n",
       "      <td>POST</td>\n",
       "      <td>2</td>\n",
       "      <td>2011</td>\n",
       "      <td>2</td>\n",
       "      <td>2</td>\n",
       "      <td>0.0000</td>\n",
       "      <td>0</td>\n",
       "    </tr>\n",
       "    <tr>\n",
       "      <th>12352.0</th>\n",
       "      <th>2011-03-01</th>\n",
       "      <td>98</td>\n",
       "      <td>89.5385</td>\n",
       "      <td>388.4150</td>\n",
       "      <td>4.120795</td>\n",
       "      <td>4.401251</td>\n",
       "      <td>8.652082</td>\n",
       "      <td>12</td>\n",
       "      <td>16.7025</td>\n",
       "      <td>50.1075</td>\n",
       "      <td>0.611699</td>\n",
       "      <td>1.199523</td>\n",
       "      <td>1.805450</td>\n",
       "      <td>3</td>\n",
       "      <td>1.1135</td>\n",
       "      <td>13.3620</td>\n",
       "      <td>6.533333</td>\n",
       "      <td>5.969233</td>\n",
       "      <td>25.894333</td>\n",
       "      <td>15</td>\n",
       "      <td>1</td>\n",
       "      <td>15</td>\n",
       "      <td>544156</td>\n",
       "      <td>21232</td>\n",
       "      <td>16</td>\n",
       "      <td>2011</td>\n",
       "      <td>2</td>\n",
       "      <td>2</td>\n",
       "      <td>399.1308</td>\n",
       "      <td>0</td>\n",
       "    </tr>\n",
       "  </tbody>\n",
       "</table>\n",
       "</div>"
      ],
      "text/plain": [
       "                       SUM(Purchases.Quantity)  SUM(Purchases.UnitPrice)  \\\n",
       "CustomerID time                                                            \n",
       "12346.0    2011-03-01                        0                    2.7248   \n",
       "12347.0    2011-03-01                      315                   95.8527   \n",
       "12348.0    2011-03-01                      601                   55.0331   \n",
       "12350.0    2011-03-01                      197                   85.5430   \n",
       "12352.0    2011-03-01                       98                   89.5385   \n",
       "\n",
       "                       SUM(Purchases.Total)  STD(Purchases.Quantity)  \\\n",
       "CustomerID time                                                        \n",
       "12346.0    2011-03-01                0.0000            104955.859532   \n",
       "12347.0    2011-03-01              622.7609                 7.510584   \n",
       "12348.0    2011-03-01              297.9464                68.294705   \n",
       "12350.0    2011-03-01              438.0640                 4.345383   \n",
       "12352.0    2011-03-01              388.4150                 4.120795   \n",
       "\n",
       "                       STD(Purchases.UnitPrice)  STD(Purchases.Total)  \\\n",
       "CustomerID time                                                         \n",
       "12346.0    2011-03-01                  0.000000         142991.863026   \n",
       "12347.0    2011-03-01                  3.188314              9.248202   \n",
       "12348.0    2011-03-01                 21.179252             11.272976   \n",
       "12350.0    2011-03-01                 12.228524              9.530955   \n",
       "12352.0    2011-03-01                  4.401251              8.652082   \n",
       "\n",
       "                       MAX(Purchases.Quantity)  MAX(Purchases.UnitPrice)  \\\n",
       "CustomerID time                                                            \n",
       "12346.0    2011-03-01                    74215                    1.3624   \n",
       "12347.0    2011-03-01                       24                   16.7025   \n",
       "12348.0    2011-03-01                      144                   52.4000   \n",
       "12350.0    2011-03-01                       24                   52.4000   \n",
       "12352.0    2011-03-01                       12                   16.7025   \n",
       "\n",
       "                       MAX(Purchases.Total)  SKEW(Purchases.Quantity)  \\\n",
       "CustomerID time                                                         \n",
       "12346.0    2011-03-01           101110.5160                  0.000000   \n",
       "12347.0    2011-03-01               50.1075                  0.912823   \n",
       "12348.0    2011-03-01               54.7056                 -1.017335   \n",
       "12350.0    2011-03-01               52.4000                  0.472554   \n",
       "12352.0    2011-03-01               50.1075                  0.611699   \n",
       "\n",
       "                       SKEW(Purchases.UnitPrice)  SKEW(Purchases.Total)  \\\n",
       "CustomerID time                                                           \n",
       "12346.0    2011-03-01                   0.000000               0.000000   \n",
       "12347.0    2011-03-01                   2.731972               1.643541   \n",
       "12348.0    2011-03-01                   2.448438              -2.413917   \n",
       "12350.0    2011-03-01                   4.098028               1.178640   \n",
       "12352.0    2011-03-01                   1.199523               1.805450   \n",
       "\n",
       "                       MIN(Purchases.Quantity)  MIN(Purchases.UnitPrice)  \\\n",
       "CustomerID time                                                            \n",
       "12346.0    2011-03-01                   -74215                    1.3624   \n",
       "12347.0    2011-03-01                        3                    0.5502   \n",
       "12348.0    2011-03-01                        1                    0.3799   \n",
       "12350.0    2011-03-01                        1                    1.1135   \n",
       "12352.0    2011-03-01                        3                    1.1135   \n",
       "\n",
       "                       MIN(Purchases.Total)  MEAN(Purchases.Quantity)  \\\n",
       "CustomerID time                                                         \n",
       "12346.0    2011-03-01          -101110.5160                  0.000000   \n",
       "12347.0    2011-03-01                6.6024                 10.862069   \n",
       "12348.0    2011-03-01               26.7240                100.166667   \n",
       "12350.0    2011-03-01               11.1350                 11.588235   \n",
       "12352.0    2011-03-01               13.3620                  6.533333   \n",
       "\n",
       "                       MEAN(Purchases.UnitPrice)  MEAN(Purchases.Total)  \\\n",
       "CustomerID time                                                           \n",
       "12346.0    2011-03-01                   1.362400               0.000000   \n",
       "12347.0    2011-03-01                   3.305266              21.474514   \n",
       "12348.0    2011-03-01                   9.172183              49.657733   \n",
       "12350.0    2011-03-01                   5.031941              25.768471   \n",
       "12352.0    2011-03-01                   5.969233              25.894333   \n",
       "\n",
       "                       COUNT(Purchases)  NUM_UNIQUE(Purchases.InvoiceNo)  \\\n",
       "CustomerID time                                                            \n",
       "12346.0    2011-03-01                 2                                2   \n",
       "12347.0    2011-03-01                29                                1   \n",
       "12348.0    2011-03-01                 6                                1   \n",
       "12350.0    2011-03-01                17                                1   \n",
       "12352.0    2011-03-01                15                                1   \n",
       "\n",
       "                       NUM_UNIQUE(Purchases.StockCode)  \\\n",
       "CustomerID time                                          \n",
       "12346.0    2011-03-01                                1   \n",
       "12347.0    2011-03-01                               29   \n",
       "12348.0    2011-03-01                                6   \n",
       "12350.0    2011-03-01                               17   \n",
       "12352.0    2011-03-01                               15   \n",
       "\n",
       "                      MODE(Purchases.InvoiceNo) MODE(Purchases.StockCode)  \\\n",
       "CustomerID time                                                             \n",
       "12346.0    2011-03-01                   C541433                     23166   \n",
       "12347.0    2011-03-01                    542237                     84992   \n",
       "12348.0    2011-03-01                    541998                     21967   \n",
       "12350.0    2011-03-01                    543037                      POST   \n",
       "12352.0    2011-03-01                    544156                     21232   \n",
       "\n",
       "                       DAY(first_Purchases_time)  YEAR(first_Purchases_time)  \\\n",
       "CustomerID time                                                                \n",
       "12346.0    2011-03-01                         18                        2011   \n",
       "12347.0    2011-03-01                         26                        2011   \n",
       "12348.0    2011-03-01                         25                        2011   \n",
       "12350.0    2011-03-01                          2                        2011   \n",
       "12352.0    2011-03-01                         16                        2011   \n",
       "\n",
       "                       MONTH(first_Purchases_time)  \\\n",
       "CustomerID time                                      \n",
       "12346.0    2011-03-01                            1   \n",
       "12347.0    2011-03-01                            1   \n",
       "12348.0    2011-03-01                            1   \n",
       "12350.0    2011-03-01                            2   \n",
       "12352.0    2011-03-01                            2   \n",
       "\n",
       "                       WEEKDAY(first_Purchases_time)     Total  Label  \n",
       "CustomerID time                                                        \n",
       "12346.0    2011-03-01                              1    0.0000      0  \n",
       "12347.0    2011-03-01                              2    0.0000      0  \n",
       "12348.0    2011-03-01                              1    0.0000      0  \n",
       "12350.0    2011-03-01                              2    0.0000      0  \n",
       "12352.0    2011-03-01                              2  399.1308      0  "
      ]
     },
     "execution_count": 39,
     "metadata": {},
     "output_type": "execute_result"
    }
   ],
   "source": [
    "feature_matrix.fillna(0, inplace=True)\n",
    "feature_matrix.head()"
   ]
  },
  {
   "cell_type": "markdown",
   "metadata": {},
   "source": [
    "Like we described before, we can't use the total columns (or the label for that matter) because these \"look into the future\". We'll do this a little later using `featuretools`. We can also remove the mode of the order ID and product ID. These shouldn't be used for creating features since they are index variables."
   ]
  },
  {
   "cell_type": "code",
   "execution_count": 40,
   "metadata": {},
   "outputs": [
    {
     "data": {
      "text/plain": [
       "(28133, 27)"
      ]
     },
     "execution_count": 40,
     "metadata": {},
     "output_type": "execute_result"
    }
   ],
   "source": [
    "feature_matrix = feature_matrix.drop(columns = [\n",
    "    'MODE(Purchases.InvoiceNo)',\n",
    "    'MODE(Purchases.StockCode)'\n",
    "])\n",
    "feature_matrix.shape"
   ]
  },
  {
   "cell_type": "markdown",
   "metadata": {},
   "source": [
    "Let's take a look at what featuretools created. We'll use an example customer again.\n",
    "\n",
    "We can see how the numbers change as progress through the year. We might expect that our predictions would get more accurate with time because we're incorporating more information. However, it's also possible that customer behavior changes over time and therefore using all the previous data might not actually be indicative of the customers future actions."
   ]
  },
  {
   "cell_type": "code",
   "execution_count": 41,
   "metadata": {},
   "outputs": [
    {
     "data": {
      "text/html": [
       "<div>\n",
       "<style scoped>\n",
       "    .dataframe tbody tr th:only-of-type {\n",
       "        vertical-align: middle;\n",
       "    }\n",
       "\n",
       "    .dataframe tbody tr th {\n",
       "        vertical-align: top;\n",
       "    }\n",
       "\n",
       "    .dataframe thead th {\n",
       "        text-align: right;\n",
       "    }\n",
       "</style>\n",
       "<table border=\"1\" class=\"dataframe\">\n",
       "  <thead>\n",
       "    <tr style=\"text-align: right;\">\n",
       "      <th></th>\n",
       "      <th>MEAN(Purchases.Total)</th>\n",
       "      <th>MIN(Purchases.Total)</th>\n",
       "      <th>Label</th>\n",
       "      <th>SUM(Purchases.UnitPrice)</th>\n",
       "      <th>MAX(Purchases.UnitPrice)</th>\n",
       "      <th>STD(Purchases.Quantity)</th>\n",
       "      <th>MEAN(Purchases.UnitPrice)</th>\n",
       "      <th>MEAN(Purchases.Quantity)</th>\n",
       "      <th>SUM(Purchases.Total)</th>\n",
       "      <th>NUM_UNIQUE(Purchases.InvoiceNo)</th>\n",
       "    </tr>\n",
       "    <tr>\n",
       "      <th>time</th>\n",
       "      <th></th>\n",
       "      <th></th>\n",
       "      <th></th>\n",
       "      <th></th>\n",
       "      <th></th>\n",
       "      <th></th>\n",
       "      <th></th>\n",
       "      <th></th>\n",
       "      <th></th>\n",
       "      <th></th>\n",
       "    </tr>\n",
       "  </thead>\n",
       "  <tbody>\n",
       "    <tr>\n",
       "      <th>2011-03-01</th>\n",
       "      <td>25.894333</td>\n",
       "      <td>13.362</td>\n",
       "      <td>0</td>\n",
       "      <td>89.5385</td>\n",
       "      <td>16.7025</td>\n",
       "      <td>4.120795</td>\n",
       "      <td>5.969233</td>\n",
       "      <td>6.533333</td>\n",
       "      <td>388.4150</td>\n",
       "      <td>1</td>\n",
       "    </tr>\n",
       "    <tr>\n",
       "      <th>2011-04-01</th>\n",
       "      <td>16.407204</td>\n",
       "      <td>-493.215</td>\n",
       "      <td>0</td>\n",
       "      <td>2489.0917</td>\n",
       "      <td>493.2150</td>\n",
       "      <td>7.034363</td>\n",
       "      <td>51.856077</td>\n",
       "      <td>3.916667</td>\n",
       "      <td>787.5458</td>\n",
       "      <td>8</td>\n",
       "    </tr>\n",
       "    <tr>\n",
       "      <th>2011-05-01</th>\n",
       "      <td>16.407204</td>\n",
       "      <td>-493.215</td>\n",
       "      <td>0</td>\n",
       "      <td>2489.0917</td>\n",
       "      <td>493.2150</td>\n",
       "      <td>7.034363</td>\n",
       "      <td>51.856077</td>\n",
       "      <td>3.916667</td>\n",
       "      <td>787.5458</td>\n",
       "      <td>8</td>\n",
       "    </tr>\n",
       "    <tr>\n",
       "      <th>2011-06-01</th>\n",
       "      <td>16.407204</td>\n",
       "      <td>-493.215</td>\n",
       "      <td>0</td>\n",
       "      <td>2489.0917</td>\n",
       "      <td>493.2150</td>\n",
       "      <td>7.034363</td>\n",
       "      <td>51.856077</td>\n",
       "      <td>3.916667</td>\n",
       "      <td>787.5458</td>\n",
       "      <td>8</td>\n",
       "    </tr>\n",
       "    <tr>\n",
       "      <th>2011-07-01</th>\n",
       "      <td>16.407204</td>\n",
       "      <td>-493.215</td>\n",
       "      <td>0</td>\n",
       "      <td>2489.0917</td>\n",
       "      <td>493.2150</td>\n",
       "      <td>7.034363</td>\n",
       "      <td>51.856077</td>\n",
       "      <td>3.916667</td>\n",
       "      <td>787.5458</td>\n",
       "      <td>8</td>\n",
       "    </tr>\n",
       "    <tr>\n",
       "      <th>2011-08-01</th>\n",
       "      <td>16.407204</td>\n",
       "      <td>-493.215</td>\n",
       "      <td>0</td>\n",
       "      <td>2489.0917</td>\n",
       "      <td>493.2150</td>\n",
       "      <td>7.034363</td>\n",
       "      <td>51.856077</td>\n",
       "      <td>3.916667</td>\n",
       "      <td>787.5458</td>\n",
       "      <td>8</td>\n",
       "    </tr>\n",
       "    <tr>\n",
       "      <th>2011-09-01</th>\n",
       "      <td>16.407204</td>\n",
       "      <td>-493.215</td>\n",
       "      <td>1</td>\n",
       "      <td>2489.0917</td>\n",
       "      <td>493.2150</td>\n",
       "      <td>7.034363</td>\n",
       "      <td>51.856077</td>\n",
       "      <td>3.916667</td>\n",
       "      <td>787.5458</td>\n",
       "      <td>8</td>\n",
       "    </tr>\n",
       "    <tr>\n",
       "      <th>2011-10-01</th>\n",
       "      <td>20.201510</td>\n",
       "      <td>-493.215</td>\n",
       "      <td>0</td>\n",
       "      <td>2783.1867</td>\n",
       "      <td>493.2150</td>\n",
       "      <td>5.883239</td>\n",
       "      <td>34.789834</td>\n",
       "      <td>4.287500</td>\n",
       "      <td>1616.1208</td>\n",
       "      <td>10</td>\n",
       "    </tr>\n",
       "    <tr>\n",
       "      <th>2011-11-01</th>\n",
       "      <td>20.201510</td>\n",
       "      <td>-493.215</td>\n",
       "      <td>0</td>\n",
       "      <td>2783.1867</td>\n",
       "      <td>493.2150</td>\n",
       "      <td>5.883239</td>\n",
       "      <td>34.789834</td>\n",
       "      <td>4.287500</td>\n",
       "      <td>1616.1208</td>\n",
       "      <td>10</td>\n",
       "    </tr>\n",
       "    <tr>\n",
       "      <th>2011-12-01</th>\n",
       "      <td>21.310391</td>\n",
       "      <td>-493.215</td>\n",
       "      <td>0</td>\n",
       "      <td>2896.5410</td>\n",
       "      <td>493.2150</td>\n",
       "      <td>5.990007</td>\n",
       "      <td>30.489905</td>\n",
       "      <td>4.947368</td>\n",
       "      <td>2024.4871</td>\n",
       "      <td>11</td>\n",
       "    </tr>\n",
       "  </tbody>\n",
       "</table>\n",
       "</div>"
      ],
      "text/plain": [
       "            MEAN(Purchases.Total)  MIN(Purchases.Total)  Label  \\\n",
       "time                                                             \n",
       "2011-03-01              25.894333                13.362      0   \n",
       "2011-04-01              16.407204              -493.215      0   \n",
       "2011-05-01              16.407204              -493.215      0   \n",
       "2011-06-01              16.407204              -493.215      0   \n",
       "2011-07-01              16.407204              -493.215      0   \n",
       "2011-08-01              16.407204              -493.215      0   \n",
       "2011-09-01              16.407204              -493.215      1   \n",
       "2011-10-01              20.201510              -493.215      0   \n",
       "2011-11-01              20.201510              -493.215      0   \n",
       "2011-12-01              21.310391              -493.215      0   \n",
       "\n",
       "            SUM(Purchases.UnitPrice)  MAX(Purchases.UnitPrice)  \\\n",
       "time                                                             \n",
       "2011-03-01                   89.5385                   16.7025   \n",
       "2011-04-01                 2489.0917                  493.2150   \n",
       "2011-05-01                 2489.0917                  493.2150   \n",
       "2011-06-01                 2489.0917                  493.2150   \n",
       "2011-07-01                 2489.0917                  493.2150   \n",
       "2011-08-01                 2489.0917                  493.2150   \n",
       "2011-09-01                 2489.0917                  493.2150   \n",
       "2011-10-01                 2783.1867                  493.2150   \n",
       "2011-11-01                 2783.1867                  493.2150   \n",
       "2011-12-01                 2896.5410                  493.2150   \n",
       "\n",
       "            STD(Purchases.Quantity)  MEAN(Purchases.UnitPrice)  \\\n",
       "time                                                             \n",
       "2011-03-01                 4.120795                   5.969233   \n",
       "2011-04-01                 7.034363                  51.856077   \n",
       "2011-05-01                 7.034363                  51.856077   \n",
       "2011-06-01                 7.034363                  51.856077   \n",
       "2011-07-01                 7.034363                  51.856077   \n",
       "2011-08-01                 7.034363                  51.856077   \n",
       "2011-09-01                 7.034363                  51.856077   \n",
       "2011-10-01                 5.883239                  34.789834   \n",
       "2011-11-01                 5.883239                  34.789834   \n",
       "2011-12-01                 5.990007                  30.489905   \n",
       "\n",
       "            MEAN(Purchases.Quantity)  SUM(Purchases.Total)  \\\n",
       "time                                                         \n",
       "2011-03-01                  6.533333              388.4150   \n",
       "2011-04-01                  3.916667              787.5458   \n",
       "2011-05-01                  3.916667              787.5458   \n",
       "2011-06-01                  3.916667              787.5458   \n",
       "2011-07-01                  3.916667              787.5458   \n",
       "2011-08-01                  3.916667              787.5458   \n",
       "2011-09-01                  3.916667              787.5458   \n",
       "2011-10-01                  4.287500             1616.1208   \n",
       "2011-11-01                  4.287500             1616.1208   \n",
       "2011-12-01                  4.947368             2024.4871   \n",
       "\n",
       "            NUM_UNIQUE(Purchases.InvoiceNo)  \n",
       "time                                         \n",
       "2011-03-01                                1  \n",
       "2011-04-01                                8  \n",
       "2011-05-01                                8  \n",
       "2011-06-01                                8  \n",
       "2011-07-01                                8  \n",
       "2011-08-01                                8  \n",
       "2011-09-01                                8  \n",
       "2011-10-01                               10  \n",
       "2011-11-01                               10  \n",
       "2011-12-01                               11  "
      ]
     },
     "execution_count": 41,
     "metadata": {},
     "output_type": "execute_result"
    }
   ],
   "source": [
    "# customer_id = 12347\n",
    "customer_id = 12352\n",
    "feature_matrix.loc[customer_id, :].sample(10, axis=1)"
   ]
  },
  {
   "cell_type": "markdown",
   "metadata": {},
   "source": [
    "Let's also add a column for the month."
   ]
  },
  {
   "cell_type": "markdown",
   "metadata": {},
   "source": [
    "#### Correlations\n",
    "\n",
    "To approximate what features are useful, we can see if there are any significant correlations between the features and the total amount purchase.\n",
    "\n",
    "First, we have to one-hot encode the categorical features using `get_dummies`."
   ]
  },
  {
   "cell_type": "code",
   "execution_count": 42,
   "metadata": {},
   "outputs": [
    {
     "data": {
      "text/plain": [
       "SUM(Purchases.Quantity)              int64\n",
       "SUM(Purchases.UnitPrice)           float64\n",
       "SUM(Purchases.Total)               float64\n",
       "STD(Purchases.Quantity)            float64\n",
       "STD(Purchases.UnitPrice)           float64\n",
       "STD(Purchases.Total)               float64\n",
       "MAX(Purchases.Quantity)              int64\n",
       "MAX(Purchases.UnitPrice)           float64\n",
       "MAX(Purchases.Total)               float64\n",
       "SKEW(Purchases.Quantity)           float64\n",
       "SKEW(Purchases.UnitPrice)          float64\n",
       "SKEW(Purchases.Total)              float64\n",
       "MIN(Purchases.Quantity)              int64\n",
       "MIN(Purchases.UnitPrice)           float64\n",
       "MIN(Purchases.Total)               float64\n",
       "MEAN(Purchases.Quantity)           float64\n",
       "MEAN(Purchases.UnitPrice)          float64\n",
       "MEAN(Purchases.Total)              float64\n",
       "COUNT(Purchases)                     int64\n",
       "NUM_UNIQUE(Purchases.InvoiceNo)      int64\n",
       "NUM_UNIQUE(Purchases.StockCode)      int64\n",
       "DAY(first_Purchases_time)            int64\n",
       "YEAR(first_Purchases_time)           int64\n",
       "MONTH(first_Purchases_time)          int64\n",
       "WEEKDAY(first_Purchases_time)        int64\n",
       "Total                              float64\n",
       "Label                                int32\n",
       "dtype: object"
      ]
     },
     "execution_count": 42,
     "metadata": {},
     "output_type": "execute_result"
    }
   ],
   "source": [
    "feature_matrix.dtypes"
   ]
  },
  {
   "cell_type": "markdown",
   "metadata": {},
   "source": [
    "This method by default doesn't drop a column (creates one-hot with $n$ columns rather than $n-1$).\n",
    "\n",
    "https://github.com/pandas-dev/pandas/issues/12042"
   ]
  },
  {
   "cell_type": "code",
   "execution_count": 43,
   "metadata": {},
   "outputs": [
    {
     "data": {
      "text/plain": [
       "(28133, 29)"
      ]
     },
     "execution_count": 43,
     "metadata": {},
     "output_type": "execute_result"
    }
   ],
   "source": [
    "feature_matrix = pd.get_dummies(feature_matrix).reset_index()\n",
    "# feature_matrix = pd.get_dummies(feature_matrix, drop_first=True).reset_index()\n",
    "feature_matrix.shape"
   ]
  },
  {
   "cell_type": "code",
   "execution_count": 44,
   "metadata": {},
   "outputs": [
    {
     "name": "stdout",
     "output_type": "stream",
     "text": [
      "Strongly negatively correlated features to the total amount spent:\n",
      "\n",
      "MONTH(first_Purchases_time)     -0.083372\n",
      "DAY(first_Purchases_time)       -0.050790\n",
      "MIN(Purchases.Total)            -0.026663\n",
      "WEEKDAY(first_Purchases_time)   -0.009223\n",
      "MIN(Purchases.UnitPrice)        -0.006407\n",
      "Name: Total, dtype: float64\n",
      "\n",
      "\n",
      "Strongly positively correlated features to the total amount spent:\n",
      "\n",
      "NUM_UNIQUE(Purchases.InvoiceNo)    0.351811\n",
      "Label                              0.370164\n",
      "SUM(Purchases.Quantity)            0.566804\n",
      "SUM(Purchases.Total)               0.630549\n",
      "Total                              1.000000\n",
      "Name: Total, dtype: float64\n"
     ]
    }
   ],
   "source": [
    "correlations = feature_matrix.corr().sort_values(\"Total\")\n",
    "print(\"Strongly negatively correlated features to the total amount spent:\\n\\n{}\".format(correlations[\"Total\"].head()))\n",
    "print(\"\\n\")\n",
    "print(\"Strongly positively correlated features to the total amount spent:\\n\\n{}\".format(correlations[\"Total\"].dropna().tail()))"
   ]
  },
  {
   "cell_type": "markdown",
   "metadata": {},
   "source": [
    "`sns.kdeplot` fits and plots a [kernel density estimate](https://en.wikipedia.org/wiki/Kernel_density_estimation) (KDE). KDE is a non-parametric way to estimate the probability density function of a random variable. Kernel density estimation is a fundamental data smoothing problem where inferences about the population are made, based on a finite data sample.\n",
    "\n",
    "Let $x_{1}, x_{2}, \\ldots, x_{n}$ be a univariate independent and indentically distributed sample drawn from some distribution with an unknown density $f$. The kernel density estimator is\n",
    "\n",
    "<center>$$\\hat{f}_{h}(x) = \\frac{1}{n}\\sum_{i=1}^{n} K_{h} (x - x_{i}) = \\frac{1}{nh}\\sum_{i=1}^{n} K \\frac{x - x_{i}}{h}$$</center>\n",
    "\n",
    "where $K$ is the kernel, a non-negative function, and $h > 0$ is a smoothing parameter called the bandwidth. A kernel with the subscript $h$ is called the scaled kernel and is defined as $Kh(x) = \\frac{1}{h} K(\\frac{x}{h})$.\n",
    "\n",
    "Phew. Don't worry, I had to look that up too. [What it really does is let you create a smooth curve given a set of data](https://mathisonian.github.io/kde/). It's useful if you want to visualize just the \"shape\" of some data, as a kind of continuous replacement for the discrete histogram.\n",
    "\n",
    "The sum of purchase totals prior to the prediction month is higher for those customers who went on to spend $500 in the next month. This is reasonable and explainable feature."
   ]
  },
  {
   "cell_type": "code",
   "execution_count": 45,
   "metadata": {},
   "outputs": [
    {
     "name": "stderr",
     "output_type": "stream",
     "text": [
      "C:\\Users\\eric.a.hansen\\.conda\\envs\\ds\\lib\\site-packages\\seaborn\\axisgrid.py:230: UserWarning: The `size` paramter has been renamed to `height`; please update your code.\n",
      "  warnings.warn(msg, UserWarning)\n"
     ]
    },
    {
     "data": {
      "text/plain": [
       "Text(0.5, 1.0, 'Distribution of SUM(Purchases.Total) by Label')"
      ]
     },
     "execution_count": 45,
     "metadata": {},
     "output_type": "execute_result"
    },
    {
     "data": {
      "image/png": "[encoded data removed]",
      "text/plain": [
       "<Figure size 909.725x288 with 1 Axes>"
      ]
     },
     "metadata": {},
     "output_type": "display_data"
    }
   ],
   "source": [
    "column_to_display = 'SUM(Purchases.Total)'\n",
    "# column_to_display = 'SUM(Purchases.Quantity)'\n",
    "\n",
    "g = sns.FacetGrid(\n",
    "    feature_matrix[(feature_matrix['SUM(Purchases.Total)'] > 0) & (feature_matrix['SUM(Purchases.Total)'] < 1000)],\n",
    "    hue='Label',\n",
    "    size=4,\n",
    "    aspect=3\n",
    ")\n",
    "g.map(sns.kdeplot, column_to_display)\n",
    "g.add_legend()\n",
    "plt.title(\"Distribution of {} by Label\".format(column_to_display))"
   ]
  },
  {
   "cell_type": "markdown",
   "metadata": {},
   "source": [
    "We can do this for all the columns too. <font color='red'>Okay, so I this isn't working. Deal with it.</font>"
   ]
  },
  {
   "cell_type": "code",
   "execution_count": 46,
   "metadata": {},
   "outputs": [],
   "source": [
    "# columns = feature_matrix.columns\n",
    "# num_columns = len(columns)\n",
    "# print(\"# feature columns: {}\".format(num_columns))\n",
    "# sqrt_columns = np.sqrt(num_columns)\n",
    "# grid_for_plots_x = int(np.ceil(sqrt_columns))\n",
    "# grid_for_plots_y = int(np.floor(sqrt_columns))\n",
    "# print(\"Grid size for plot: {} x {}\".format(grid_for_plots_x, grid_for_plots_y))\n",
    "\n",
    "# plt.figure(figsize=(18, 6))\n",
    "# f, axes = plt.subplots(grid_for_plots_x, grid_for_plots_y)\n",
    "# flattened_axes = [x for y in axes for x in y]\n",
    "# plt.subplots(grid_for_plots_x, grid_for_plots_y)\n",
    "\n",
    "# for column, axis in zip(columns, flattened_axes):\n",
    "#     g = sns.FacetGrid(\n",
    "#         feature_matrix[(feature_matrix['SUM(Purchases.Total)'] > 0) & (feature_matrix['SUM(Purchases.Total)'] < 1000)],\n",
    "#         hue='Label',\n",
    "#         size=4,\n",
    "#         aspect=3\n",
    "#     )\n",
    "#     g.map(sns.kdeplot, column)\n",
    "\n",
    "# g = sns.FacetGrid(\n",
    "#     feature_matrix[(feature_matrix['SUM(Purchases.Total)'] > 0) & (feature_matrix['SUM(Purchases.Total)'] < 1000)],\n",
    "#     hue='Label',\n",
    "#     size=4,\n",
    "#     aspect=3\n",
    "# )\n",
    "# g.map(sns.kdeplot, columns)"
   ]
  },
  {
   "cell_type": "markdown",
   "metadata": {},
   "source": [
    "Add the month column for our next plot."
   ]
  },
  {
   "cell_type": "code",
   "execution_count": 47,
   "metadata": {},
   "outputs": [],
   "source": [
    "feature_matrix['Month'] = feature_matrix['time'].dt.month"
   ]
  },
  {
   "cell_type": "markdown",
   "metadata": {},
   "source": [
    "A violin plot is similar to a box plot with a rotated KDE plot on each side. Can you see the differences beween the labels?"
   ]
  },
  {
   "cell_type": "code",
   "execution_count": 48,
   "metadata": {},
   "outputs": [
    {
     "data": {
      "text/plain": [
       "Text(0.5, 1.0, 'Number of Unique Purchases by Label')"
      ]
     },
     "execution_count": 48,
     "metadata": {},
     "output_type": "execute_result"
    },
    {
     "data": {
      "image/png": "[encoded data removed]",
      "text/plain": [
       "<Figure size 1440x432 with 1 Axes>"
      ]
     },
     "metadata": {},
     "output_type": "display_data"
    }
   ],
   "source": [
    "fig, ax = plt.subplots(figsize=(20, 6))\n",
    "sns.violinplot(\n",
    "    ax=ax,\n",
    "    x='Month',\n",
    "    y='NUM_UNIQUE(Purchases.InvoiceNo)',\n",
    "    hue='Label',\n",
    "    data=feature_matrix[(feature_matrix['SUM(Purchases.Total)'] > 0) & (feature_matrix['SUM(Purchases.Total)'] < 1000)],\n",
    ")\n",
    "plt.title('Number of Unique Purchases by Label')"
   ]
  },
  {
   "cell_type": "markdown",
   "metadata": {},
   "source": [
    "## Preliminary Modelling\n",
    "\n",
    "---"
   ]
  },
  {
   "cell_type": "markdown",
   "metadata": {},
   "source": [
    "Let's try Scikit-Learn's [random forest classifier](https://scikit-learn.org/stable/modules/generated/sklearn.ensemble.RandomForestClassifier.html)."
   ]
  },
  {
   "cell_type": "code",
   "execution_count": 49,
   "metadata": {},
   "outputs": [],
   "source": [
    "random_forest_model = RandomForestClassifier(\n",
    "    n_estimators=1000,\n",
    "    random_state=50,\n",
    "    n_jobs=-1\n",
    ")"
   ]
  },
  {
   "cell_type": "markdown",
   "metadata": {},
   "source": [
    "Let's make predictions for the month of June.\n",
    "\n",
    "The data prep tasks are done using a pipeline for many Python ML packages. Think of this as a thing that takes your input data and formats it such that whatever model you choose can consume the information. Usually, you can setup one pipeline and then use that for any number of different models, which is incredibly convenient.\n",
    "\n",
    "Keep in mind that our training data is dependent upon the time! In other words, we can't use data from the future. We will also see that our model varies from month to month based on the available training data."
   ]
  },
  {
   "cell_type": "code",
   "execution_count": 50,
   "metadata": {},
   "outputs": [
    {
     "name": "stderr",
     "output_type": "stream",
     "text": [
      "C:\\Users\\eric.a.hansen\\.conda\\envs\\ds\\lib\\site-packages\\sklearn\\utils\\deprecation.py:58: DeprecationWarning: Class Imputer is deprecated; Imputer was deprecated in version 0.20 and will be removed in 0.22. Import impute.SimpleImputer from sklearn instead.\n",
      "  warnings.warn(msg, category=DeprecationWarning)\n"
     ]
    }
   ],
   "source": [
    "month = 6\n",
    "test_labels = feature_matrix.loc[feature_matrix['Month'] == month, 'Label']\n",
    "train_labels = feature_matrix.loc[feature_matrix['Month'] < month, 'Label']\n",
    "\n",
    "x_train = feature_matrix[feature_matrix['time'].dt.month < month].drop(columns = [\n",
    "    \"CustomerID\",\n",
    "    \"time\",\n",
    "    \"Month\",\n",
    "    \"Label\",\n",
    "    \"Total\"\n",
    "])\n",
    "x_test = feature_matrix[feature_matrix['time'].dt.month == month].drop(columns = [\n",
    "    \"CustomerID\",\n",
    "    \"time\",\n",
    "    \"Month\",\n",
    "    \"Label\",\n",
    "    \"Total\"\n",
    "])\n",
    "\n",
    "pipeline = Pipeline([\n",
    "    ('imputer', Imputer(strategy='median')),\n",
    "    ('scaler', MinMaxScaler())\n",
    "])\n",
    "\n",
    "transformed_x_train = pipeline.fit_transform(x_train)\n",
    "transformed_x_test = pipeline.fit_transform(x_test)\n",
    "\n",
    "y_train = np.array(train_labels).reshape((-1, ))\n",
    "y_test = np.array(test_labels).reshape((-1, ))"
   ]
  },
  {
   "cell_type": "markdown",
   "metadata": {},
   "source": [
    "Simply fit the model."
   ]
  },
  {
   "cell_type": "code",
   "execution_count": 51,
   "metadata": {},
   "outputs": [
    {
     "name": "stdout",
     "output_type": "stream",
     "text": [
      "Number of training observations: 5266\n"
     ]
    },
    {
     "data": {
      "text/plain": [
       "RandomForestClassifier(bootstrap=True, class_weight=None, criterion='gini',\n",
       "            max_depth=None, max_features='auto', max_leaf_nodes=None,\n",
       "            min_impurity_decrease=0.0, min_impurity_split=None,\n",
       "            min_samples_leaf=1, min_samples_split=2,\n",
       "            min_weight_fraction_leaf=0.0, n_estimators=1000, n_jobs=-1,\n",
       "            oob_score=False, random_state=50, verbose=0, warm_start=False)"
      ]
     },
     "execution_count": 51,
     "metadata": {},
     "output_type": "execute_result"
    }
   ],
   "source": [
    "print(\"Number of training observations: {}\".format(len(transformed_x_train)))\n",
    "random_forest_model.fit(transformed_x_train, y_train)"
   ]
  },
  {
   "cell_type": "markdown",
   "metadata": {},
   "source": [
    "Use it to make predictions."
   ]
  },
  {
   "cell_type": "code",
   "execution_count": 52,
   "metadata": {},
   "outputs": [],
   "source": [
    "predictions = random_forest_model.predict(transformed_x_test)\n",
    "probs = random_forest_model.predict_proba(transformed_x_test)[:, 1]"
   ]
  },
  {
   "cell_type": "markdown",
   "metadata": {},
   "source": [
    "Let's compute some metrics about the model."
   ]
  },
  {
   "cell_type": "code",
   "execution_count": 53,
   "metadata": {},
   "outputs": [
    {
     "name": "stdout",
     "output_type": "stream",
     "text": [
      "Precision: 0.6289308176100629\n",
      "Recall: 0.31446540880503143\n",
      "F1 score: 0.41928721174004185\n",
      "ROC AUC: 0.643644496203529\n"
     ]
    }
   ],
   "source": [
    "metrics_precision, metrics_recall, metrics_f1, metrics_roc_auc = get_performance_metrics(y_test, predictions)"
   ]
  },
  {
   "cell_type": "markdown",
   "metadata": {},
   "source": [
    "We can plot the cumulative importance of features."
   ]
  },
  {
   "cell_type": "code",
   "execution_count": 54,
   "metadata": {},
   "outputs": [],
   "source": [
    "feature_names = list(x_train.columns)\n",
    "june_feature_importances_df = pd.DataFrame({\n",
    "    'feature': feature_names,\n",
    "    'importance': random_forest_model.feature_importances_\n",
    "})"
   ]
  },
  {
   "cell_type": "code",
   "execution_count": 55,
   "metadata": {},
   "outputs": [
    {
     "data": {
      "image/png": "[encoded data removed]",
      "text/plain": [
       "<Figure size 864x576 with 1 Axes>"
      ]
     },
     "metadata": {},
     "output_type": "display_data"
    }
   ],
   "source": [
    "june_feature_importances_df = plot_feature_importances(june_feature_importances_df)"
   ]
  },
  {
   "cell_type": "markdown",
   "metadata": {},
   "source": [
    "## Compare to Baseline\n",
    "\n",
    "---\n",
    "\n",
    "Awesome! We have a model. Now what?\n",
    "\n",
    "What if our predictions are no better than luck?\n",
    "\n",
    "Let's make an informed baseline. Let's use the amount the customer spent in the past month to predict how much they'll spend in the next month. Literally, just assume that if they spent more than $500 in the past month, then they'll do that again for this month."
   ]
  },
  {
   "cell_type": "code",
   "execution_count": 56,
   "metadata": {},
   "outputs": [
    {
     "data": {
      "text/html": [
       "<div>\n",
       "<style scoped>\n",
       "    .dataframe tbody tr th:only-of-type {\n",
       "        vertical-align: middle;\n",
       "    }\n",
       "\n",
       "    .dataframe tbody tr th {\n",
       "        vertical-align: top;\n",
       "    }\n",
       "\n",
       "    .dataframe thead th {\n",
       "        text-align: right;\n",
       "    }\n",
       "</style>\n",
       "<table border=\"1\" class=\"dataframe\">\n",
       "  <thead>\n",
       "    <tr style=\"text-align: right;\">\n",
       "      <th></th>\n",
       "      <th>CustomerID</th>\n",
       "      <th>CutoffTime</th>\n",
       "      <th>JulyTotal</th>\n",
       "      <th>Label</th>\n",
       "      <th>Month</th>\n",
       "      <th>JuneTotal</th>\n",
       "      <th>PredictedLabel</th>\n",
       "      <th>Probability</th>\n",
       "    </tr>\n",
       "  </thead>\n",
       "  <tbody>\n",
       "    <tr>\n",
       "      <th>1647</th>\n",
       "      <td>17646.0</td>\n",
       "      <td>2011-07-01</td>\n",
       "      <td>0.0000</td>\n",
       "      <td>0</td>\n",
       "      <td>7</td>\n",
       "      <td>0.0000</td>\n",
       "      <td>0</td>\n",
       "      <td>0.000000</td>\n",
       "    </tr>\n",
       "    <tr>\n",
       "      <th>627</th>\n",
       "      <td>17068.0</td>\n",
       "      <td>2011-07-01</td>\n",
       "      <td>530.7465</td>\n",
       "      <td>1</td>\n",
       "      <td>7</td>\n",
       "      <td>409.7025</td>\n",
       "      <td>0</td>\n",
       "      <td>0.819405</td>\n",
       "    </tr>\n",
       "    <tr>\n",
       "      <th>2434</th>\n",
       "      <td>16446.0</td>\n",
       "      <td>2011-07-01</td>\n",
       "      <td>0.0000</td>\n",
       "      <td>0</td>\n",
       "      <td>7</td>\n",
       "      <td>0.0000</td>\n",
       "      <td>0</td>\n",
       "      <td>0.000000</td>\n",
       "    </tr>\n",
       "    <tr>\n",
       "      <th>2236</th>\n",
       "      <td>17158.0</td>\n",
       "      <td>2011-07-01</td>\n",
       "      <td>0.0000</td>\n",
       "      <td>0</td>\n",
       "      <td>7</td>\n",
       "      <td>0.0000</td>\n",
       "      <td>0</td>\n",
       "      <td>0.000000</td>\n",
       "    </tr>\n",
       "    <tr>\n",
       "      <th>1852</th>\n",
       "      <td>12902.0</td>\n",
       "      <td>2011-07-01</td>\n",
       "      <td>0.0000</td>\n",
       "      <td>0</td>\n",
       "      <td>7</td>\n",
       "      <td>0.0000</td>\n",
       "      <td>0</td>\n",
       "      <td>0.000000</td>\n",
       "    </tr>\n",
       "    <tr>\n",
       "      <th>1547</th>\n",
       "      <td>12945.0</td>\n",
       "      <td>2011-07-01</td>\n",
       "      <td>0.0000</td>\n",
       "      <td>0</td>\n",
       "      <td>7</td>\n",
       "      <td>0.0000</td>\n",
       "      <td>0</td>\n",
       "      <td>0.000000</td>\n",
       "    </tr>\n",
       "    <tr>\n",
       "      <th>241</th>\n",
       "      <td>14085.0</td>\n",
       "      <td>2011-07-01</td>\n",
       "      <td>377.0573</td>\n",
       "      <td>0</td>\n",
       "      <td>7</td>\n",
       "      <td>193.8145</td>\n",
       "      <td>0</td>\n",
       "      <td>0.387629</td>\n",
       "    </tr>\n",
       "    <tr>\n",
       "      <th>437</th>\n",
       "      <td>15624.0</td>\n",
       "      <td>2011-07-01</td>\n",
       "      <td>273.3053</td>\n",
       "      <td>0</td>\n",
       "      <td>7</td>\n",
       "      <td>0.0000</td>\n",
       "      <td>0</td>\n",
       "      <td>0.000000</td>\n",
       "    </tr>\n",
       "    <tr>\n",
       "      <th>2043</th>\n",
       "      <td>14546.0</td>\n",
       "      <td>2011-07-01</td>\n",
       "      <td>0.0000</td>\n",
       "      <td>0</td>\n",
       "      <td>7</td>\n",
       "      <td>0.0000</td>\n",
       "      <td>0</td>\n",
       "      <td>0.000000</td>\n",
       "    </tr>\n",
       "    <tr>\n",
       "      <th>1972</th>\n",
       "      <td>17398.0</td>\n",
       "      <td>2011-07-01</td>\n",
       "      <td>0.0000</td>\n",
       "      <td>0</td>\n",
       "      <td>7</td>\n",
       "      <td>0.0000</td>\n",
       "      <td>0</td>\n",
       "      <td>0.000000</td>\n",
       "    </tr>\n",
       "    <tr>\n",
       "      <th>2406</th>\n",
       "      <td>17764.0</td>\n",
       "      <td>2011-07-01</td>\n",
       "      <td>0.0000</td>\n",
       "      <td>0</td>\n",
       "      <td>7</td>\n",
       "      <td>0.0000</td>\n",
       "      <td>0</td>\n",
       "      <td>0.000000</td>\n",
       "    </tr>\n",
       "    <tr>\n",
       "      <th>2648</th>\n",
       "      <td>15574.0</td>\n",
       "      <td>2011-07-01</td>\n",
       "      <td>0.0000</td>\n",
       "      <td>0</td>\n",
       "      <td>7</td>\n",
       "      <td>0.0000</td>\n",
       "      <td>0</td>\n",
       "      <td>0.000000</td>\n",
       "    </tr>\n",
       "    <tr>\n",
       "      <th>785</th>\n",
       "      <td>15164.0</td>\n",
       "      <td>2011-07-01</td>\n",
       "      <td>0.0000</td>\n",
       "      <td>0</td>\n",
       "      <td>7</td>\n",
       "      <td>0.0000</td>\n",
       "      <td>0</td>\n",
       "      <td>0.000000</td>\n",
       "    </tr>\n",
       "    <tr>\n",
       "      <th>1410</th>\n",
       "      <td>12993.0</td>\n",
       "      <td>2011-07-01</td>\n",
       "      <td>0.0000</td>\n",
       "      <td>0</td>\n",
       "      <td>7</td>\n",
       "      <td>0.0000</td>\n",
       "      <td>0</td>\n",
       "      <td>0.000000</td>\n",
       "    </tr>\n",
       "    <tr>\n",
       "      <th>2015</th>\n",
       "      <td>14419.0</td>\n",
       "      <td>2011-07-01</td>\n",
       "      <td>0.0000</td>\n",
       "      <td>0</td>\n",
       "      <td>7</td>\n",
       "      <td>0.0000</td>\n",
       "      <td>0</td>\n",
       "      <td>0.000000</td>\n",
       "    </tr>\n",
       "    <tr>\n",
       "      <th>410</th>\n",
       "      <td>15356.0</td>\n",
       "      <td>2011-07-01</td>\n",
       "      <td>473.9973</td>\n",
       "      <td>0</td>\n",
       "      <td>7</td>\n",
       "      <td>531.5456</td>\n",
       "      <td>1</td>\n",
       "      <td>1.000000</td>\n",
       "    </tr>\n",
       "    <tr>\n",
       "      <th>1390</th>\n",
       "      <td>18084.0</td>\n",
       "      <td>2011-07-01</td>\n",
       "      <td>0.0000</td>\n",
       "      <td>0</td>\n",
       "      <td>7</td>\n",
       "      <td>0.0000</td>\n",
       "      <td>0</td>\n",
       "      <td>0.000000</td>\n",
       "    </tr>\n",
       "    <tr>\n",
       "      <th>1804</th>\n",
       "      <td>13299.0</td>\n",
       "      <td>2011-07-01</td>\n",
       "      <td>0.0000</td>\n",
       "      <td>0</td>\n",
       "      <td>7</td>\n",
       "      <td>0.0000</td>\n",
       "      <td>0</td>\n",
       "      <td>0.000000</td>\n",
       "    </tr>\n",
       "    <tr>\n",
       "      <th>447</th>\n",
       "      <td>15716.0</td>\n",
       "      <td>2011-07-01</td>\n",
       "      <td>283.4447</td>\n",
       "      <td>0</td>\n",
       "      <td>7</td>\n",
       "      <td>0.0000</td>\n",
       "      <td>0</td>\n",
       "      <td>0.000000</td>\n",
       "    </tr>\n",
       "    <tr>\n",
       "      <th>608</th>\n",
       "      <td>16923.0</td>\n",
       "      <td>2011-07-01</td>\n",
       "      <td>501.9265</td>\n",
       "      <td>1</td>\n",
       "      <td>7</td>\n",
       "      <td>844.8845</td>\n",
       "      <td>1</td>\n",
       "      <td>1.000000</td>\n",
       "    </tr>\n",
       "    <tr>\n",
       "      <th>1076</th>\n",
       "      <td>12594.0</td>\n",
       "      <td>2011-07-01</td>\n",
       "      <td>0.0000</td>\n",
       "      <td>0</td>\n",
       "      <td>7</td>\n",
       "      <td>56.2776</td>\n",
       "      <td>0</td>\n",
       "      <td>0.112555</td>\n",
       "    </tr>\n",
       "    <tr>\n",
       "      <th>2560</th>\n",
       "      <td>17531.0</td>\n",
       "      <td>2011-07-01</td>\n",
       "      <td>0.0000</td>\n",
       "      <td>0</td>\n",
       "      <td>7</td>\n",
       "      <td>0.0000</td>\n",
       "      <td>0</td>\n",
       "      <td>0.000000</td>\n",
       "    </tr>\n",
       "    <tr>\n",
       "      <th>1256</th>\n",
       "      <td>13606.0</td>\n",
       "      <td>2011-07-01</td>\n",
       "      <td>0.0000</td>\n",
       "      <td>0</td>\n",
       "      <td>7</td>\n",
       "      <td>0.0000</td>\n",
       "      <td>0</td>\n",
       "      <td>0.000000</td>\n",
       "    </tr>\n",
       "    <tr>\n",
       "      <th>423</th>\n",
       "      <td>15521.0</td>\n",
       "      <td>2011-07-01</td>\n",
       "      <td>588.4520</td>\n",
       "      <td>1</td>\n",
       "      <td>7</td>\n",
       "      <td>0.0000</td>\n",
       "      <td>0</td>\n",
       "      <td>0.000000</td>\n",
       "    </tr>\n",
       "    <tr>\n",
       "      <th>455</th>\n",
       "      <td>15781.0</td>\n",
       "      <td>2011-07-01</td>\n",
       "      <td>152.0255</td>\n",
       "      <td>0</td>\n",
       "      <td>7</td>\n",
       "      <td>0.0000</td>\n",
       "      <td>0</td>\n",
       "      <td>0.000000</td>\n",
       "    </tr>\n",
       "  </tbody>\n",
       "</table>\n",
       "</div>"
      ],
      "text/plain": [
       "      CustomerID CutoffTime  JulyTotal  Label  Month  JuneTotal  \\\n",
       "1647     17646.0 2011-07-01     0.0000      0      7     0.0000   \n",
       "627      17068.0 2011-07-01   530.7465      1      7   409.7025   \n",
       "2434     16446.0 2011-07-01     0.0000      0      7     0.0000   \n",
       "2236     17158.0 2011-07-01     0.0000      0      7     0.0000   \n",
       "1852     12902.0 2011-07-01     0.0000      0      7     0.0000   \n",
       "1547     12945.0 2011-07-01     0.0000      0      7     0.0000   \n",
       "241      14085.0 2011-07-01   377.0573      0      7   193.8145   \n",
       "437      15624.0 2011-07-01   273.3053      0      7     0.0000   \n",
       "2043     14546.0 2011-07-01     0.0000      0      7     0.0000   \n",
       "1972     17398.0 2011-07-01     0.0000      0      7     0.0000   \n",
       "2406     17764.0 2011-07-01     0.0000      0      7     0.0000   \n",
       "2648     15574.0 2011-07-01     0.0000      0      7     0.0000   \n",
       "785      15164.0 2011-07-01     0.0000      0      7     0.0000   \n",
       "1410     12993.0 2011-07-01     0.0000      0      7     0.0000   \n",
       "2015     14419.0 2011-07-01     0.0000      0      7     0.0000   \n",
       "410      15356.0 2011-07-01   473.9973      0      7   531.5456   \n",
       "1390     18084.0 2011-07-01     0.0000      0      7     0.0000   \n",
       "1804     13299.0 2011-07-01     0.0000      0      7     0.0000   \n",
       "447      15716.0 2011-07-01   283.4447      0      7     0.0000   \n",
       "608      16923.0 2011-07-01   501.9265      1      7   844.8845   \n",
       "1076     12594.0 2011-07-01     0.0000      0      7    56.2776   \n",
       "2560     17531.0 2011-07-01     0.0000      0      7     0.0000   \n",
       "1256     13606.0 2011-07-01     0.0000      0      7     0.0000   \n",
       "423      15521.0 2011-07-01   588.4520      1      7     0.0000   \n",
       "455      15781.0 2011-07-01   152.0255      0      7     0.0000   \n",
       "\n",
       "      PredictedLabel  Probability  \n",
       "1647               0     0.000000  \n",
       "627                0     0.819405  \n",
       "2434               0     0.000000  \n",
       "2236               0     0.000000  \n",
       "1852               0     0.000000  \n",
       "1547               0     0.000000  \n",
       "241                0     0.387629  \n",
       "437                0     0.000000  \n",
       "2043               0     0.000000  \n",
       "1972               0     0.000000  \n",
       "2406               0     0.000000  \n",
       "2648               0     0.000000  \n",
       "785                0     0.000000  \n",
       "1410               0     0.000000  \n",
       "2015               0     0.000000  \n",
       "410                1     1.000000  \n",
       "1390               0     0.000000  \n",
       "1804               0     0.000000  \n",
       "447                0     0.000000  \n",
       "608                1     1.000000  \n",
       "1076               0     0.112555  \n",
       "2560               0     0.000000  \n",
       "1256               0     0.000000  \n",
       "423                0     0.000000  \n",
       "455                0     0.000000  "
      ]
     },
     "execution_count": 56,
     "metadata": {},
     "output_type": "execute_result"
    }
   ],
   "source": [
    "baseline_labels = labels.copy()\n",
    "baseline_labels['Month'] = baseline_labels['CutoffTime'].dt.month\n",
    "july_baseline_labels = baseline_labels[baseline_labels['Month'] == 7]\n",
    "june_baseline_labels = baseline_labels[baseline_labels['Month'] == 6]\n",
    "\n",
    "july_baseline_labels = july_baseline_labels.rename(columns = {'Total': 'JulyTotal'})\n",
    "june_baseline_labels = june_baseline_labels.rename(columns = {'Total': 'JuneTotal'})\n",
    "\n",
    "july_baseline_labels = july_baseline_labels.merge(june_baseline_labels[['CustomerID', 'JuneTotal']], on = 'CustomerID', how = 'left')\n",
    "july_baseline_labels['JuneTotal'] = july_baseline_labels['JuneTotal'].fillna(0)\n",
    "july_baseline_labels['PredictedLabel'] = (july_baseline_labels['JuneTotal'] > 500).astype(int)\n",
    "\n",
    "july_baseline_labels['Probability'] = july_baseline_labels['JuneTotal'] / 500\n",
    "    \n",
    "# Set probabilities greater than 1 equal to 1.\n",
    "july_baseline_labels.loc[july_baseline_labels['Probability'] > 1, 'Probability'] = 1\n",
    "    \n",
    "july_baseline_labels.sample(25, random_state=50)"
   ]
  },
  {
   "cell_type": "markdown",
   "metadata": {},
   "source": [
    "What's the correlation between the previous months total and the current months?"
   ]
  },
  {
   "cell_type": "code",
   "execution_count": 57,
   "metadata": {},
   "outputs": [
    {
     "name": "stdout",
     "output_type": "stream",
     "text": [
      "Correlation between totals in July and June: 0.6212795006643788\n"
     ]
    },
    {
     "data": {
      "text/plain": [
       "Text(0.5, 1.0, 'July vs. June Spending')"
      ]
     },
     "execution_count": 57,
     "metadata": {},
     "output_type": "execute_result"
    },
    {
     "data": {
      "image/png": "[encoded data removed]",
      "text/plain": [
       "<Figure size 360x360 with 1 Axes>"
      ]
     },
     "metadata": {},
     "output_type": "display_data"
    }
   ],
   "source": [
    "print(\"Correlation between totals in July and June: {}\".format(\n",
    "    july_baseline_labels[\"JulyTotal\"].corr(july_baseline_labels[\"JuneTotal\"])))                      \n",
    "sns.lmplot(\"JuneTotal\", \"JulyTotal\", data=july_baseline_labels, fit_reg=False)\n",
    "plt.title(\"July vs. June Spending\")"
   ]
  },
  {
   "cell_type": "code",
   "execution_count": 58,
   "metadata": {},
   "outputs": [
    {
     "name": "stdout",
     "output_type": "stream",
     "text": [
      "Precision: 0.39937106918238996\n",
      "Recall: 0.38368580060422963\n",
      "F1 score: 0.3913713405238829\n",
      "ROC AUC: 0.652396390595382\n"
     ]
    }
   ],
   "source": [
    "metrics_precision, metrics_recall, metrics_f1, metrics_roc_auc = get_performance_metrics(july_baseline_labels['Label'], july_baseline_labels['PredictedLabel'])"
   ]
  },
  {
   "cell_type": "markdown",
   "metadata": {},
   "source": [
    "So how do we stack up? Note that I'm going to use the [function](#Functions) I wrote to train the model. It just takes up a lot less space. It's doing the same thing as what you saw above."
   ]
  },
  {
   "cell_type": "code",
   "execution_count": 59,
   "metadata": {},
   "outputs": [
    {
     "name": "stderr",
     "output_type": "stream",
     "text": [
      "C:\\Users\\eric.a.hansen\\.conda\\envs\\ds\\lib\\site-packages\\sklearn\\utils\\deprecation.py:58: DeprecationWarning: Class Imputer is deprecated; Imputer was deprecated in version 0.20 and will be removed in 0.22. Import impute.SimpleImputer from sklearn instead.\n",
      "  warnings.warn(msg, category=DeprecationWarning)\n"
     ]
    },
    {
     "name": "stdout",
     "output_type": "stream",
     "text": [
      "Number of training observations: 7755\n",
      "Number of training labels: 7755\n",
      "\n",
      "\n",
      "Precision: 0.5925925925925926\n",
      "Recall: 0.3867069486404834\n",
      "F1 score: 0.4680073126142596\n",
      "ROC AUC: 0.6751791661831082\n"
     ]
    }
   ],
   "source": [
    "random_forest_model = RandomForestClassifier(\n",
    "    n_estimators=1000,\n",
    "    random_state=50,\n",
    "    n_jobs=-1\n",
    ")   \n",
    "random_forest_model, transformed_x_train, transformed_x_test, y_train, y_test = get_trained_model(\n",
    "    model=random_forest_model, \n",
    "    time_period_to_predict=7, # For July.\n",
    "    feature_matrix=feature_matrix\n",
    ")\n",
    "random_forest_model_predictions = random_forest_model.predict(transformed_x_test)\n",
    "random_forest_model_probabilities = random_forest_model.predict_proba(transformed_x_test)[:, 1]\n",
    "\n",
    "print(\"\\n\") # Look pretty!\n",
    "_ = get_performance_metrics(\n",
    "    truth=y_test,\n",
    "    predictions=random_forest_model_predictions\n",
    ")"
   ]
  },
  {
   "cell_type": "markdown",
   "metadata": {},
   "source": [
    "<font color='red'>How can I adjust threshold to tune recall, precision and F1 score?</font>\n",
    "\n",
    "Plotting the ROC gives a great idea for model performance."
   ]
  },
  {
   "cell_type": "code",
   "execution_count": 60,
   "metadata": {},
   "outputs": [
    {
     "data": {
      "text/plain": [
       "Text(0.5, 1.0, 'ROC Curves')"
      ]
     },
     "execution_count": 60,
     "metadata": {},
     "output_type": "execute_result"
    },
    {
     "data": {
      "image/png": "[encoded data removed]",
      "text/plain": [
       "<Figure size 576x432 with 1 Axes>"
      ]
     },
     "metadata": {},
     "output_type": "display_data"
    }
   ],
   "source": [
    "# Calculate false positive rates and true positive rates\n",
    "base_fpr, base_tpr, _ = roc_curve(july_baseline_labels['Label'], july_baseline_labels['Probability'])\n",
    "model_fpr, model_tpr, _ = roc_curve(feature_matrix[feature_matrix['Month'] == 7]['Label'], random_forest_model_probabilities)\n",
    "\n",
    "plt.figure(figsize = (8, 6))\n",
    "plt.plot(base_fpr, base_tpr, 'b', label = 'baseline')\n",
    "plt.plot(model_fpr, model_tpr, 'r', label = 'model')\n",
    "plt.legend();\n",
    "plt.xlabel('False Positive Rate'); plt.ylabel('True Positive Rate'); plt.title('ROC Curves')"
   ]
  },
  {
   "cell_type": "markdown",
   "metadata": {},
   "source": [
    "Hooray! We're slightly better!"
   ]
  },
  {
   "cell_type": "code",
   "execution_count": 61,
   "metadata": {},
   "outputs": [
    {
     "data": {
      "text/html": [
       "<div>\n",
       "<style scoped>\n",
       "    .dataframe tbody tr th:only-of-type {\n",
       "        vertical-align: middle;\n",
       "    }\n",
       "\n",
       "    .dataframe tbody tr th {\n",
       "        vertical-align: top;\n",
       "    }\n",
       "\n",
       "    .dataframe thead th {\n",
       "        text-align: right;\n",
       "    }\n",
       "</style>\n",
       "<table border=\"1\" class=\"dataframe\">\n",
       "  <thead>\n",
       "    <tr style=\"text-align: right;\">\n",
       "      <th></th>\n",
       "      <th>CustomerID</th>\n",
       "      <th>time</th>\n",
       "      <th>SUM(Purchases.Quantity)</th>\n",
       "      <th>SUM(Purchases.UnitPrice)</th>\n",
       "      <th>SUM(Purchases.Total)</th>\n",
       "      <th>STD(Purchases.Quantity)</th>\n",
       "      <th>STD(Purchases.UnitPrice)</th>\n",
       "      <th>STD(Purchases.Total)</th>\n",
       "      <th>MAX(Purchases.Quantity)</th>\n",
       "      <th>MAX(Purchases.UnitPrice)</th>\n",
       "      <th>MAX(Purchases.Total)</th>\n",
       "      <th>SKEW(Purchases.Quantity)</th>\n",
       "      <th>SKEW(Purchases.UnitPrice)</th>\n",
       "      <th>SKEW(Purchases.Total)</th>\n",
       "      <th>MIN(Purchases.Quantity)</th>\n",
       "      <th>MIN(Purchases.UnitPrice)</th>\n",
       "      <th>MIN(Purchases.Total)</th>\n",
       "      <th>MEAN(Purchases.Quantity)</th>\n",
       "      <th>MEAN(Purchases.UnitPrice)</th>\n",
       "      <th>MEAN(Purchases.Total)</th>\n",
       "      <th>COUNT(Purchases)</th>\n",
       "      <th>NUM_UNIQUE(Purchases.InvoiceNo)</th>\n",
       "      <th>NUM_UNIQUE(Purchases.StockCode)</th>\n",
       "      <th>DAY(first_Purchases_time)</th>\n",
       "      <th>YEAR(first_Purchases_time)</th>\n",
       "      <th>MONTH(first_Purchases_time)</th>\n",
       "      <th>WEEKDAY(first_Purchases_time)</th>\n",
       "      <th>Total</th>\n",
       "      <th>Label</th>\n",
       "      <th>Month</th>\n",
       "    </tr>\n",
       "  </thead>\n",
       "  <tbody>\n",
       "    <tr>\n",
       "      <th>0</th>\n",
       "      <td>12346.0</td>\n",
       "      <td>2011-03-01</td>\n",
       "      <td>0</td>\n",
       "      <td>2.7248</td>\n",
       "      <td>0.0000</td>\n",
       "      <td>104955.859532</td>\n",
       "      <td>0.000000</td>\n",
       "      <td>142991.863026</td>\n",
       "      <td>74215</td>\n",
       "      <td>1.3624</td>\n",
       "      <td>101110.5160</td>\n",
       "      <td>0.000000</td>\n",
       "      <td>0.000000</td>\n",
       "      <td>0.000000</td>\n",
       "      <td>-74215</td>\n",
       "      <td>1.3624</td>\n",
       "      <td>-101110.5160</td>\n",
       "      <td>0.000000</td>\n",
       "      <td>1.362400</td>\n",
       "      <td>0.000000</td>\n",
       "      <td>2</td>\n",
       "      <td>2</td>\n",
       "      <td>1</td>\n",
       "      <td>18</td>\n",
       "      <td>2011</td>\n",
       "      <td>1</td>\n",
       "      <td>1</td>\n",
       "      <td>0.0000</td>\n",
       "      <td>0</td>\n",
       "      <td>3</td>\n",
       "    </tr>\n",
       "    <tr>\n",
       "      <th>1</th>\n",
       "      <td>12347.0</td>\n",
       "      <td>2011-03-01</td>\n",
       "      <td>315</td>\n",
       "      <td>95.8527</td>\n",
       "      <td>622.7609</td>\n",
       "      <td>7.510584</td>\n",
       "      <td>3.188314</td>\n",
       "      <td>9.248202</td>\n",
       "      <td>24</td>\n",
       "      <td>16.7025</td>\n",
       "      <td>50.1075</td>\n",
       "      <td>0.912823</td>\n",
       "      <td>2.731972</td>\n",
       "      <td>1.643541</td>\n",
       "      <td>3</td>\n",
       "      <td>0.5502</td>\n",
       "      <td>6.6024</td>\n",
       "      <td>10.862069</td>\n",
       "      <td>3.305266</td>\n",
       "      <td>21.474514</td>\n",
       "      <td>29</td>\n",
       "      <td>1</td>\n",
       "      <td>29</td>\n",
       "      <td>26</td>\n",
       "      <td>2011</td>\n",
       "      <td>1</td>\n",
       "      <td>2</td>\n",
       "      <td>0.0000</td>\n",
       "      <td>0</td>\n",
       "      <td>3</td>\n",
       "    </tr>\n",
       "    <tr>\n",
       "      <th>2</th>\n",
       "      <td>12348.0</td>\n",
       "      <td>2011-03-01</td>\n",
       "      <td>601</td>\n",
       "      <td>55.0331</td>\n",
       "      <td>297.9464</td>\n",
       "      <td>68.294705</td>\n",
       "      <td>21.179252</td>\n",
       "      <td>11.272976</td>\n",
       "      <td>144</td>\n",
       "      <td>52.4000</td>\n",
       "      <td>54.7056</td>\n",
       "      <td>-1.017335</td>\n",
       "      <td>2.448438</td>\n",
       "      <td>-2.413917</td>\n",
       "      <td>1</td>\n",
       "      <td>0.3799</td>\n",
       "      <td>26.7240</td>\n",
       "      <td>100.166667</td>\n",
       "      <td>9.172183</td>\n",
       "      <td>49.657733</td>\n",
       "      <td>6</td>\n",
       "      <td>1</td>\n",
       "      <td>6</td>\n",
       "      <td>25</td>\n",
       "      <td>2011</td>\n",
       "      <td>1</td>\n",
       "      <td>1</td>\n",
       "      <td>0.0000</td>\n",
       "      <td>0</td>\n",
       "      <td>3</td>\n",
       "    </tr>\n",
       "    <tr>\n",
       "      <th>3</th>\n",
       "      <td>12350.0</td>\n",
       "      <td>2011-03-01</td>\n",
       "      <td>197</td>\n",
       "      <td>85.5430</td>\n",
       "      <td>438.0640</td>\n",
       "      <td>4.345383</td>\n",
       "      <td>12.228524</td>\n",
       "      <td>9.530955</td>\n",
       "      <td>24</td>\n",
       "      <td>52.4000</td>\n",
       "      <td>52.4000</td>\n",
       "      <td>0.472554</td>\n",
       "      <td>4.098028</td>\n",
       "      <td>1.178640</td>\n",
       "      <td>1</td>\n",
       "      <td>1.1135</td>\n",
       "      <td>11.1350</td>\n",
       "      <td>11.588235</td>\n",
       "      <td>5.031941</td>\n",
       "      <td>25.768471</td>\n",
       "      <td>17</td>\n",
       "      <td>1</td>\n",
       "      <td>17</td>\n",
       "      <td>2</td>\n",
       "      <td>2011</td>\n",
       "      <td>2</td>\n",
       "      <td>2</td>\n",
       "      <td>0.0000</td>\n",
       "      <td>0</td>\n",
       "      <td>3</td>\n",
       "    </tr>\n",
       "    <tr>\n",
       "      <th>4</th>\n",
       "      <td>12352.0</td>\n",
       "      <td>2011-03-01</td>\n",
       "      <td>98</td>\n",
       "      <td>89.5385</td>\n",
       "      <td>388.4150</td>\n",
       "      <td>4.120795</td>\n",
       "      <td>4.401251</td>\n",
       "      <td>8.652082</td>\n",
       "      <td>12</td>\n",
       "      <td>16.7025</td>\n",
       "      <td>50.1075</td>\n",
       "      <td>0.611699</td>\n",
       "      <td>1.199523</td>\n",
       "      <td>1.805450</td>\n",
       "      <td>3</td>\n",
       "      <td>1.1135</td>\n",
       "      <td>13.3620</td>\n",
       "      <td>6.533333</td>\n",
       "      <td>5.969233</td>\n",
       "      <td>25.894333</td>\n",
       "      <td>15</td>\n",
       "      <td>1</td>\n",
       "      <td>15</td>\n",
       "      <td>16</td>\n",
       "      <td>2011</td>\n",
       "      <td>2</td>\n",
       "      <td>2</td>\n",
       "      <td>399.1308</td>\n",
       "      <td>0</td>\n",
       "      <td>3</td>\n",
       "    </tr>\n",
       "  </tbody>\n",
       "</table>\n",
       "</div>"
      ],
      "text/plain": [
       "   CustomerID       time  SUM(Purchases.Quantity)  SUM(Purchases.UnitPrice)  \\\n",
       "0     12346.0 2011-03-01                        0                    2.7248   \n",
       "1     12347.0 2011-03-01                      315                   95.8527   \n",
       "2     12348.0 2011-03-01                      601                   55.0331   \n",
       "3     12350.0 2011-03-01                      197                   85.5430   \n",
       "4     12352.0 2011-03-01                       98                   89.5385   \n",
       "\n",
       "   SUM(Purchases.Total)  STD(Purchases.Quantity)  STD(Purchases.UnitPrice)  \\\n",
       "0                0.0000            104955.859532                  0.000000   \n",
       "1              622.7609                 7.510584                  3.188314   \n",
       "2              297.9464                68.294705                 21.179252   \n",
       "3              438.0640                 4.345383                 12.228524   \n",
       "4              388.4150                 4.120795                  4.401251   \n",
       "\n",
       "   STD(Purchases.Total)  MAX(Purchases.Quantity)  MAX(Purchases.UnitPrice)  \\\n",
       "0         142991.863026                    74215                    1.3624   \n",
       "1              9.248202                       24                   16.7025   \n",
       "2             11.272976                      144                   52.4000   \n",
       "3              9.530955                       24                   52.4000   \n",
       "4              8.652082                       12                   16.7025   \n",
       "\n",
       "   MAX(Purchases.Total)  SKEW(Purchases.Quantity)  SKEW(Purchases.UnitPrice)  \\\n",
       "0           101110.5160                  0.000000                   0.000000   \n",
       "1               50.1075                  0.912823                   2.731972   \n",
       "2               54.7056                 -1.017335                   2.448438   \n",
       "3               52.4000                  0.472554                   4.098028   \n",
       "4               50.1075                  0.611699                   1.199523   \n",
       "\n",
       "   SKEW(Purchases.Total)  MIN(Purchases.Quantity)  MIN(Purchases.UnitPrice)  \\\n",
       "0               0.000000                   -74215                    1.3624   \n",
       "1               1.643541                        3                    0.5502   \n",
       "2              -2.413917                        1                    0.3799   \n",
       "3               1.178640                        1                    1.1135   \n",
       "4               1.805450                        3                    1.1135   \n",
       "\n",
       "   MIN(Purchases.Total)  MEAN(Purchases.Quantity)  MEAN(Purchases.UnitPrice)  \\\n",
       "0          -101110.5160                  0.000000                   1.362400   \n",
       "1                6.6024                 10.862069                   3.305266   \n",
       "2               26.7240                100.166667                   9.172183   \n",
       "3               11.1350                 11.588235                   5.031941   \n",
       "4               13.3620                  6.533333                   5.969233   \n",
       "\n",
       "   MEAN(Purchases.Total)  COUNT(Purchases)  NUM_UNIQUE(Purchases.InvoiceNo)  \\\n",
       "0               0.000000                 2                                2   \n",
       "1              21.474514                29                                1   \n",
       "2              49.657733                 6                                1   \n",
       "3              25.768471                17                                1   \n",
       "4              25.894333                15                                1   \n",
       "\n",
       "   NUM_UNIQUE(Purchases.StockCode)  DAY(first_Purchases_time)  \\\n",
       "0                                1                         18   \n",
       "1                               29                         26   \n",
       "2                                6                         25   \n",
       "3                               17                          2   \n",
       "4                               15                         16   \n",
       "\n",
       "   YEAR(first_Purchases_time)  MONTH(first_Purchases_time)  \\\n",
       "0                        2011                            1   \n",
       "1                        2011                            1   \n",
       "2                        2011                            1   \n",
       "3                        2011                            2   \n",
       "4                        2011                            2   \n",
       "\n",
       "   WEEKDAY(first_Purchases_time)     Total  Label  Month  \n",
       "0                              1    0.0000      0      3  \n",
       "1                              2    0.0000      0      3  \n",
       "2                              1    0.0000      0      3  \n",
       "3                              2    0.0000      0      3  \n",
       "4                              2  399.1308      0      3  "
      ]
     },
     "execution_count": 61,
     "metadata": {},
     "output_type": "execute_result"
    }
   ],
   "source": [
    "feature_matrix.head()"
   ]
  },
  {
   "cell_type": "markdown",
   "metadata": {},
   "source": [
    "Let's write up a function to do this all quicker. Here's a comparison for June."
   ]
  },
  {
   "cell_type": "code",
   "execution_count": 62,
   "metadata": {},
   "outputs": [
    {
     "name": "stdout",
     "output_type": "stream",
     "text": [
      "Baseline:\n",
      "Precision: 0.403899721448468\n",
      "Recall: 0.4559748427672956\n",
      "F1 score: 0.4283604135893649\n",
      "ROC AUC: 0.6787013780856285\n"
     ]
    },
    {
     "name": "stderr",
     "output_type": "stream",
     "text": [
      "C:\\Users\\eric.a.hansen\\.conda\\envs\\ds\\lib\\site-packages\\sklearn\\utils\\deprecation.py:58: DeprecationWarning: Class Imputer is deprecated; Imputer was deprecated in version 0.20 and will be removed in 0.22. Import impute.SimpleImputer from sklearn instead.\n",
      "  warnings.warn(msg, category=DeprecationWarning)\n"
     ]
    },
    {
     "name": "stdout",
     "output_type": "stream",
     "text": [
      "\n",
      "Pipeline:\n",
      "Precision: 0.6289308176100629\n",
      "Recall: 0.31446540880503143\n",
      "F1 score: 0.41928721174004185\n",
      "ROC AUC: 0.643644496203529\n"
     ]
    },
    {
     "data": {
      "image/png": "[encoded data removed]",
      "text/plain": [
       "<Figure size 576x432 with 1 Axes>"
      ]
     },
     "metadata": {},
     "output_type": "display_data"
    }
   ],
   "source": [
    "compare_baseline_to_auto(6, feature_matrix, labels)"
   ]
  },
  {
   "cell_type": "markdown",
   "metadata": {},
   "source": [
    "December."
   ]
  },
  {
   "cell_type": "code",
   "execution_count": 63,
   "metadata": {},
   "outputs": [
    {
     "name": "stdout",
     "output_type": "stream",
     "text": [
      "Baseline:\n",
      "Precision: 0.34563106796116505\n",
      "Recall: 0.559748427672956\n",
      "F1 score: 0.42737094837935174\n",
      "ROC AUC: 0.7022602110727747\n"
     ]
    },
    {
     "name": "stderr",
     "output_type": "stream",
     "text": [
      "C:\\Users\\eric.a.hansen\\.conda\\envs\\ds\\lib\\site-packages\\sklearn\\utils\\deprecation.py:58: DeprecationWarning: Class Imputer is deprecated; Imputer was deprecated in version 0.20 and will be removed in 0.22. Import impute.SimpleImputer from sklearn instead.\n",
      "  warnings.warn(msg, category=DeprecationWarning)\n"
     ]
    },
    {
     "name": "stdout",
     "output_type": "stream",
     "text": [
      "\n",
      "Pipeline:\n",
      "Precision: 0.28502415458937197\n",
      "Recall: 0.5198237885462555\n",
      "F1 score: 0.3681747269890796\n",
      "ROC AUC: 0.7226322972957978\n"
     ]
    },
    {
     "data": {
      "image/png": "[encoded data removed]",
      "text/plain": [
       "<Figure size 576x432 with 1 Axes>"
      ]
     },
     "metadata": {},
     "output_type": "display_data"
    }
   ],
   "source": [
    "compare_baseline_to_auto(12, feature_matrix, labels)"
   ]
  },
  {
   "cell_type": "markdown",
   "metadata": {},
   "source": [
    "April (anything before this dies due to lack of data)."
   ]
  },
  {
   "cell_type": "code",
   "execution_count": 64,
   "metadata": {},
   "outputs": [
    {
     "name": "stdout",
     "output_type": "stream",
     "text": [
      "Baseline:\n",
      "Precision: 0.5113122171945701\n",
      "Recall: 0.3553459119496855\n",
      "F1 score: 0.4192949907235621\n",
      "ROC AUC: 0.6527996257122909\n"
     ]
    },
    {
     "name": "stderr",
     "output_type": "stream",
     "text": [
      "C:\\Users\\eric.a.hansen\\.conda\\envs\\ds\\lib\\site-packages\\sklearn\\utils\\deprecation.py:58: DeprecationWarning: Class Imputer is deprecated; Imputer was deprecated in version 0.20 and will be removed in 0.22. Import impute.SimpleImputer from sklearn instead.\n",
      "  warnings.warn(msg, category=DeprecationWarning)\n"
     ]
    },
    {
     "name": "stdout",
     "output_type": "stream",
     "text": [
      "\n",
      "Pipeline:\n",
      "Precision: 0.5578947368421052\n",
      "Recall: 0.24423963133640553\n",
      "F1 score: 0.33974358974358976\n",
      "ROC AUC: 0.6089536714675758\n"
     ]
    },
    {
     "data": {
      "image/png": "[encoded data removed]",
      "text/plain": [
       "<Figure size 576x432 with 1 Axes>"
      ]
     },
     "metadata": {},
     "output_type": "display_data"
    }
   ],
   "source": [
    "compare_baseline_to_auto(4, feature_matrix, labels)"
   ]
  },
  {
   "cell_type": "markdown",
   "metadata": {},
   "source": [
    "## References\n",
    "\n",
    "---\n",
    "\n",
    "1. Dua, D.; Karra Taniskidou, E. (2017). UCI Machine Learning Repository http://archive.ics.uci.edu/ml. Irvine, CA: University of California, School of Information and Computer Science.\n",
    "1. Featuretools (2019), GitHub repository, https://github.com/Featuretools.\n",
    "1. Katner, J. M.; Veeramachaneni, K. Deep feature synthesis: Towards automating data science endeavors, *2015 IEEE International Conference on Data Science and Advanced Analytics (DSAA)*, https://doi.org/10.1109/DSAA.2015.7344858.\n",
    "1. Conlen, M. Kernel Density Estimation, https://mathisonian.github.io/kde."
   ]
  }
 ],
 "metadata": {
  "kernelspec": {
   "display_name": "Python 3",
   "language": "python",
   "name": "python3"
  },
  "language_info": {
   "codemirror_mode": {
    "name": "ipython",
    "version": 3
   },
   "file_extension": ".py",
   "mimetype": "text/x-python",
   "name": "python",
   "nbconvert_exporter": "python",
   "pygments_lexer": "ipython3",
   "version": "3.7.2"
  }
 },
 "nbformat": 4,
 "nbformat_minor": 2
}
