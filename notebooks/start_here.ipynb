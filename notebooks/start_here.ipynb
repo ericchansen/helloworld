{
 "cells": [
  {
   "cell_type": "markdown",
   "metadata": {},
   "source": [
    "# Data Science 101\n",
    "\n",
    "## Introduction\n",
    "\n",
    "---\n",
    "\n",
    "The purpose of this notebook is to help you get setup as quickly as possible on your 1st data science project.\n",
    "\n",
    "This is an on-going development. I put this together relatively quickly for this office hours talk, but I'll continue to update as time allows. I welcome any other contributors!\n",
    "\n",
    "## Contents\n",
    "\n",
    "---\n",
    "\n",
    "- [Python](#Python)\n",
    "  - [What's Python?](#What's-Python?)\n",
    "  - [Why Python?](#Why-Should-We-Use-Python?)\n",
    "  - [Installing Python](Why-Are-There-So-Many-Snake-References?)\n",
    "\n",
    "- [Jupyter](#Jupyter)\n",
    "  - [Jupyter References](#Jupyter-References)\n",
    "- [Conda](#Conda)\n",
    "  - [Why Conda?](#Conda)\n",
    "  - [Conda References](#Conda-References)\n",
    "- [Let's Put This All to Use!](#Let's-Put-This-All-to-Use!)\n",
    "\n",
    "## Python \n",
    "\n",
    "---\n",
    "\n",
    "### What's Python?\n",
    "\n",
    "General purpose, high-level, interpreted programming language created by [Guido van Rossum](https://gvanrossum.github.io/). Apparently, he named Python after the comedical group that he loved, Monthy Python. Released in 1991. Van Rossum was the self proclaimed “benevolent dictator for life” of Python, except he stepped down from his \"for life\" position last year.\n",
    "\n",
    "The best way to start off describing Python is by examining the \"Zen of Python\", written by Tim Peters, another major contributor to the language. It was released as [PEP 20](https://www.python.org/dev/peps/pep-0020/). PEP stands for \"Python Enhancement Proposal\". There are quite a few PEP's out there, and many of them provide excellent insight into the contributors' views on the language.\n",
    "\n",
    "Anyway, let's take a look at the \"Zen of Python\" through this easter egg."
   ]
  },
  {
   "cell_type": "code",
   "execution_count": 13,
   "metadata": {},
   "outputs": [
    {
     "name": "stdout",
     "output_type": "stream",
     "text": [
      "The Zen of Python, by Tim Peters\n",
      "\n",
      "Beautiful is better than ugly.\n",
      "Explicit is better than implicit.\n",
      "Simple is better than complex.\n",
      "Complex is better than complicated.\n",
      "Flat is better than nested.\n",
      "Sparse is better than dense.\n",
      "Readability counts.\n",
      "Special cases aren't special enough to break the rules.\n",
      "Although practicality beats purity.\n",
      "Errors should never pass silently.\n",
      "Unless explicitly silenced.\n",
      "In the face of ambiguity, refuse the temptation to guess.\n",
      "There should be one-- and preferably only one --obvious way to do it.\n",
      "Although that way may not be obvious at first unless you're Dutch.\n",
      "Now is better than never.\n",
      "Although never is often better than *right* now.\n",
      "If the implementation is hard to explain, it's a bad idea.\n",
      "If the implementation is easy to explain, it may be a good idea.\n",
      "Namespaces are one honking great idea -- let's do more of those!\n"
     ]
    }
   ],
   "source": [
    "import this"
   ]
  },
  {
   "cell_type": "markdown",
   "metadata": {},
   "source": [
    "There's a lot more than can be said, but I'll quickly highlight the language with a few examples.\n",
    "\n",
    "The language is dynamically typed."
   ]
  },
  {
   "cell_type": "code",
   "execution_count": 4,
   "metadata": {},
   "outputs": [
    {
     "name": "stdout",
     "output_type": "stream",
     "text": [
      "That means that I can make this variable be a string!\n",
      "Type of variable: <class 'str'>\n"
     ]
    }
   ],
   "source": [
    "a = \"That means that I can make this variable be a string!\"\n",
    "print(a)\n",
    "print(\"Type of variable: {}\".format(type(a)))"
   ]
  },
  {
   "cell_type": "code",
   "execution_count": 6,
   "metadata": {},
   "outputs": [
    {
     "name": "stdout",
     "output_type": "stream",
     "text": [
      "But then I can immediately make it an integer without any problems! Neat!\n",
      "1\n",
      "Type of variable: <class 'int'>\n"
     ]
    }
   ],
   "source": [
    "print(\"But then I can immediately make it an integer without any problems! Neat!\")\n",
    "a = 1\n",
    "print(a)\n",
    "print(\"Type of variable: {}\".format(type(a)))"
   ]
  },
  {
   "cell_type": "markdown",
   "metadata": {},
   "source": [
    "Some folks might say that's not \"neat\" at all. Some folks might argue that having to strictly declare the types of variables before using them is a good thing. Some argue that it makes code bases more readable and easier to manage.\n",
    "\n",
    "For example, you'd never be handed a variable like like this and have no idea what it is."
   ]
  },
  {
   "cell_type": "code",
   "execution_count": 22,
   "metadata": {},
   "outputs": [
    {
     "name": "stdout",
     "output_type": "stream",
     "text": [
      "1\n",
      "Type of variable: <class 'int'>\n"
     ]
    }
   ],
   "source": [
    "import random\n",
    "look_at_all_these_variable_types = [1, \"I'm a string!\", 2.1, {\"Key1\": \"Value\", \"Key2\": 2}, [\"I'm\", \"a\", \"list\", \"inside\", \"a\", \"list!\"], object]\n",
    "pick_this_one_at_random = random.choice(look_at_all_these_variable_types)\n",
    "print(pick_this_one_at_random)\n",
    "print(\"Type of variable: {}\".format(type(pick_this_one_at_random)))"
   ]
  },
  {
   "cell_type": "markdown",
   "metadata": {},
   "source": [
    "Alas, this is the way of Python. Take it or leave it I suppose.\n",
    "\n",
    "By the way, just to demonstrate Python's usage of white space, take a look a this. This variable instantiation is the same as the cell above. No difference as far as the code that's being executed. It just looks different. I'll leave it up to you to decide what you think looks better."
   ]
  },
  {
   "cell_type": "code",
   "execution_count": 23,
   "metadata": {},
   "outputs": [],
   "source": [
    "this_is_equivalent_to_above = [\n",
    "    1,\n",
    "    \"I'm a string!\",\n",
    "    2.1,\n",
    "    {\"Key1\": \"Value\", \"Key2\": 2},\n",
    "    [\"I'm\", \"a\", \"list\", \"inside\", \"a\", \"list!\",\n",
    "    object]\n",
    "]"
   ]
  },
  {
   "cell_type": "markdown",
   "metadata": {},
   "source": [
    "On the other hand, functions, loops, classes, etc. all require particular usage of white space."
   ]
  },
  {
   "cell_type": "code",
   "execution_count": 19,
   "metadata": {},
   "outputs": [],
   "source": [
    "def im_a_function(input_variable_1, input_variable_2):\n",
    "    print(\"I don't really do anything.\")"
   ]
  },
  {
   "cell_type": "code",
   "execution_count": 31,
   "metadata": {},
   "outputs": [
    {
     "name": "stdout",
     "output_type": "stream",
     "text": [
      "Hmmm. It looks like a box.\n",
      "Just a pointless box.\n"
     ]
    }
   ],
   "source": [
    "class Box(object):\n",
    "    def __init__(self):\n",
    "        pass\n",
    "    def look_at_box(self):\n",
    "        print(\"Hmmm. It looks like a box.\")\n",
    "    def open_box(self):\n",
    "        print(\"Just a pointless box.\")\n",
    "\n",
    "my_box = Box()\n",
    "my_box.look_at_box()\n",
    "my_box.open_box()"
   ]
  },
  {
   "cell_type": "code",
   "execution_count": 34,
   "metadata": {},
   "outputs": [
    {
     "name": "stdout",
     "output_type": "stream",
     "text": [
      "Hmmm. It looks like a box.\n",
      "Oh boy! There are cookies in here!\n"
     ]
    }
   ],
   "source": [
    "class BoxOfCookies(Box):\n",
    "    def __init__(self):\n",
    "        pass\n",
    "    def open_box(self):\n",
    "        print(\"Oh boy! There are cookies in here!\")\n",
    "        \n",
    "my_box = BoxOfCookies()\n",
    "my_box.look_at_box()\n",
    "my_box.open_box()"
   ]
  },
  {
   "cell_type": "markdown",
   "metadata": {},
   "source": [
    "Anyway, that's a quick intro. I'll happily go in more depth, and I'll also keep adding to this repository.\n",
    "\n",
    "### Why Python?\n",
    "\n",
    "Everyone you ask will probably give you a slightly different list of reasons. Some of those include.\n",
    "\n",
    "1. Readability (although others will say that\n",
    "1. Lack of readability\n",
    "1. Ability to do not just data science, but also web development. [Django](https://www.djangoproject.com/) and [Flask](http://flask.pocoo.org/) are used all around. For example, [Instagram](www.instagram.com), [Mozilla's help page](https://support.mozilla.org/en-US/), are all built using the Django framework. The machine learning algorithms that we wrote for Eva (which were also written in Python) are made available as a REST API using Flask. The list of possible applications of Python is too vast to exhaust.\n",
    "\n",
    "It's also worth mentioning why not to use Python. Due to Python being an interpretted language that employs automatic garbage collection (and a handful of other reasons), it's not particularly fast at executing. That being said, if you can write something in Python in half the time it takes to write it in C, but it takes twice as long to run in Python than it does in C, which are you going to choose?\n",
    "\n",
    "Personally, my feelings about why you should use Python are summarized by this comic.\n",
    "\n",
    "<center><img src=\"https://imgs.xkcd.com/comics/python.png\"></center>\n",
    "\n",
    "## Jupyter\n",
    "\n",
    "---\n",
    "\n",
    "You might be asking, okay, well if this is Python, does it always look like this? Nope, this is Python code embded in a Jupyter Notebook.\n",
    "\n",
    "You might ask, \"What does Python code look like outside of a Jupyter Notebook?\" Let me guide you!\n",
    "\n",
    "And just to clarify, the text in this cell is actually [Markdown](https://en.wikipedia.org/wiki/Markdown). Markdown is now the standard for notebooks, code documentation, messages passed around in GitHub or Azure DevOps, etc. etc. And it's super easy. Just take a look. Double click on this cell to see the Markdown code.\n",
    "\n",
    "See? Not too bad.\n",
    "\n",
    "On the other hand, the cell below is in Python."
   ]
  },
  {
   "cell_type": "code",
   "execution_count": 37,
   "metadata": {},
   "outputs": [],
   "source": [
    "really_i_am = \"I'm Python code!\""
   ]
  },
  {
   "cell_type": "markdown",
   "metadata": {},
   "source": [
    "If you look at the top of this window, you'll see that you can change the language used in the cell.\n",
    "\n",
    "### Jupyter References\n",
    "\n",
    "1. The keyboard shortcuts that Jupyter Notebook uses are bizarre. Here's a [cheat sheet](https://www.cheatography.com/weidadeyue/cheat-sheets/jupyter-notebook/pdf_bw/). Print this out and keep it on you <font color='red'>at all times</font>. Don't panic. This cheat sheet will be your ever burning torch that guides you through this strange new world.\n",
    "\n",
    "## Conda\n",
    "\n",
    "---\n",
    "\n",
    "### Why Are There So Many Snake References?\n",
    "\n",
    "I don't know.\n",
    "\n",
    "\"How do I even get started with Python?\" I can answer that one! That's what [Conda](https://conda.io/en/latest/index.html) is for! Following the steps below will get you started scripting Python and/or Jupyter Notebooks in no time!\n",
    "\n",
    "1. Download [Anaconada](https://www.anaconda.com/distribution/) or [Miniconda](https://conda.io/en/latest/miniconda.html). I recommend Anaconda for beginners because it comes with [Anaconda Navigator](https://docs.anaconda.com/anaconda/navigator/), which is a GUI for managing Anaconda and starting Jupyter (and it can do a variety of other things that I never use).\n",
    "1. Open Anaconada Navigator.\n",
    "1. Install and then start a Jupyter Notebook or JupyterLab.\n",
    "1. Seriously, that's it.\n",
    "\n",
    "Anaconda and Miniconda are two different distributions of Conda. Anaconda comes preinstalled with every data science package you can shake a stick at. Miniconda comes with virtually nothing. Personally, I like starting from scratch and having full control, but it's not for everyone.\n",
    "\n",
    "### Why Conda?\n",
    "\n",
    "Your OS uses Python. Your Python projects will use Python. What if you project needs different libraries/packages than your OS?\n",
    "\n",
    "### Conda References\n",
    "\n",
    "1. You're going to end up with a lot of Conda environments. I create a new one for every project. Here's a great link on [how to manage your Conda environments](https://conda.io/projects/conda/en/latest/user-guide/tasks/manage-environments.html).\n",
    "1. [Conda cheat sheet](https://docs.anaconda.com/_downloads/Anaconda-Starter-Guide-Cheat-Sheet.pdf)\n",
    "\n",
    "\n",
    "## Git\n",
    "\n",
    "---\n",
    "\n",
    "Git isn't [GitHub](www.github.com). GitHub is a website that hosts Git repositories. A repository is a project or a collection of code.\n",
    "\n",
    "\n",
    "### Why use Git?\n",
    "\n",
    "Git is the ultimate collaboration tool for coding. It had plenty of competition. Remember Mercurial or VSTS? There are reason why they aren't used anymore.\n",
    "\n",
    "This tutorial itself is hosted on [my personal GitHub](https://github.com/ericchansen). That means that whenever I have more free time, I can add more documentation, push it to the repository, and then it's immediately available to all of you! I intend to keep updating this documentation throughout the years, and now you all can help too!\n",
    "\n",
    "I know that many of you may be new to working on code collaboratively, but you need something to help you once the team gets beyond 2 or 3 people.\n",
    "\n",
    "For example, I had a nice demo built up for this talk. But then someone refactored the code in [featuretools](https://github.com/Featuretools/featuretools) and broke some of the functionality that I was using. Thanks to GitHub, I can trace the [version history](https://github.com/Featuretools/featuretools/network) to locate exactly where the [breaking change occured](https://github.com/Featuretools/featuretools/commit/36ce3c300172390d702a614b5784332b8b56343a). After doing a bit of my own research, I determined this is definitely a bug and reported it to their GitHub issues. Here's [my issue](https://github.com/Featuretools/featuretools/issues/405). And look at that! They've already responded. Maybe they'll fix the problem themselves. If they don't do it quick enough, I can fork the repo and fix it myself. Then I can propose my changes back to the owners of featuretools as pull request.\n",
    "\n",
    "All in all, Git allows for a beautiful form of collaboration for both open source and private development. You may be intimidated to get started. Don't be! If you're ever hoping to work with Python or in data science, I promise you that it's worth it.\n",
    "\n",
    "### Git References\n",
    "\n",
    "1. Here's the [link to download Git](https://git-scm.com/downloads). You can install it such that it comes with a GUI. Personally, I never use it, but you may like it.\n",
    "1. I recommend learning the basic first. [Start here](http://rogerdudler.github.io/git-guide/).\n",
    "1. Then think about your Git practices. You want to create [useful, insightful commit messages](https://gist.github.com/robertpainsi/b632364184e70900af4ab688decf6f53). [Not this](https://xkcd.com/1296/) or [this](https://github.com/Featuretools/featuretools/commit/36ce3c300172390d702a614b5784332b8b56343a).\n",
    "1. When you're working on a large project, you'll like want to follow some standard guidelines for managing branches. I like [Git Flow](https://www.atlassian.com/git/tutorials/comparing-workflows/gitflow-workflow). Actually, I use this for all of my current projects, regardless of size.\n",
    "\n",
    "## Let's Put This All to Use!\n",
    "\n",
    "---\n",
    "\n",
    "For now, check out predict-customer-next-purchase.ipynb. I'll add more examples as time allows. Also, when I wrap up my project, expect to see some nice tutorials that should help you get started with PySpark.\n",
    "\n",
    "The best way to learn is by doing and reading. If you want more examples, here's one of [my repos](https://github.com/ericchansen/q2mm) that I developed in graduate school. You can find plenty more wonderful examples on GitHub. Why not look up the source code for [NumPy](https://github.com/numpy/numpy) or whatever Python repositories are [trending on GitHub today](https://github.com/trending/python)?"
   ]
  }
 ],
 "metadata": {
  "kernelspec": {
   "display_name": "Python 3",
   "language": "python",
   "name": "python3"
  },
  "language_info": {
   "codemirror_mode": {
    "name": "ipython",
    "version": 3
   },
   "file_extension": ".py",
   "mimetype": "text/x-python",
   "name": "python",
   "nbconvert_exporter": "python",
   "pygments_lexer": "ipython3",
   "version": "3.7.2"
  }
 },
 "nbformat": 4,
 "nbformat_minor": 2
}
